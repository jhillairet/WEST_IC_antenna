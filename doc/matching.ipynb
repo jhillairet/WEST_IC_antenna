{
 "cells": [
  {
   "cell_type": "markdown",
   "metadata": {},
   "source": [
    "# Matching the WEST ICRH Antenna"
   ]
  },
  {
   "cell_type": "markdown",
   "metadata": {},
   "source": [
    "In this notebook we investigate the various method to match a WEST ICRH antenna. By matching the antenna we mean to find 4 capacitances values $C_1$, $C_2$, $C_3$ and $C_4$ in order for the antenna to be operated at a given frequency $f_0$. "
   ]
  },
  {
   "cell_type": "code",
   "execution_count": 1,
   "metadata": {},
   "outputs": [],
   "source": [
    "%matplotlib widget"
   ]
  },
  {
   "cell_type": "code",
   "execution_count": 2,
   "metadata": {},
   "outputs": [],
   "source": [
    "%load_ext autoreload\n",
    "%autoreload 2"
   ]
  },
  {
   "cell_type": "code",
   "execution_count": 3,
   "metadata": {},
   "outputs": [],
   "source": [
    "import matplotlib.pyplot as plt\n",
    "import skrf as rf\n",
    "import numpy as np\n",
    "import sys\n",
    "from tqdm.notebook import tqdm\n",
    "\n",
    "sys.path.append('..')\n",
    "from west_ic_antenna import WestIcrhAntenna"
   ]
  },
  {
   "cell_type": "code",
   "execution_count": 4,
   "metadata": {},
   "outputs": [
    {
     "name": "stderr",
     "output_type": "stream",
     "text": [
      "C:\\Users\\JH218595\\Documents\\scikit-rf\\skrf\\plotting.py:1441: UserWarning: Style includes a parameter, 'interactive', that is not related to style.  Ignoring\n",
      "  mpl.style.use(os.path.join(pwd, style_file))\n"
     ]
    }
   ],
   "source": [
    "rf.stylely()"
   ]
  },
  {
   "cell_type": "code",
   "execution_count": 5,
   "metadata": {},
   "outputs": [],
   "source": [
    "from west_ic_antenna import WestIcrhAntenna"
   ]
  },
  {
   "cell_type": "markdown",
   "metadata": {},
   "source": [
    "## Matching Each Sides Separately\n",
    "Here, each side of the antenna is matched separatly, which leads to two set of capacitances $(C_1, C_2)$ and $(C_3,C_4)$.\n",
    "\n",
    "In the following example, both sides of the antenna are matched at the frequency $f_0$, keeping opposite side unmatched (C=150pF):"
   ]
  },
  {
   "cell_type": "code",
   "execution_count": 6,
   "metadata": {},
   "outputs": [],
   "source": [
    "f0 = 55e6\n",
    "freq = rf.Frequency(54, 56, npoints=1001, unit='MHz')\n",
    "ant = WestIcrhAntenna(frequency=freq)  # default is vacuum coupling"
   ]
  },
  {
   "cell_type": "code",
   "execution_count": 7,
   "metadata": {},
   "outputs": [
    {
     "name": "stdout",
     "output_type": "stream",
     "text": [
      "True solution #1: [50.75831692 48.74412321]\n",
      "True solution #1: [50.56073699 48.93366323]\n",
      "Left side matching point:  [50.75831692184981, 48.74412321496751, 150, 150]\n",
      "Right side matching point:  [150, 150, 50.560736991732824, 48.933663234204275]\n"
     ]
    }
   ],
   "source": [
    "C_match_left = ant.match_one_side(f_match=f0, side='left', solution_number=1)\n",
    "C_match_right = ant.match_one_side(f_match=f0, side='right', solution_number=1)\n",
    "print('Left side matching point: ', C_match_left)\n",
    "print('Right side matching point: ', C_match_right)"
   ]
  },
  {
   "cell_type": "markdown",
   "metadata": {},
   "source": [
    "Let's have a look to the RF reflection coefficient of each sides:"
   ]
  },
  {
   "cell_type": "code",
   "execution_count": 8,
   "metadata": {},
   "outputs": [
    {
     "data": {
      "application/vnd.jupyter.widget-view+json": {
       "model_id": "30ccdc5c56204d02a43ec4eec64dfc63",
       "version_major": 2,
       "version_minor": 0
      },
      "text/plain": [
       "Canvas(toolbar=Toolbar(toolitems=[('Home', 'Reset original view', 'home', 'home'), ('Back', 'Back to previous …"
      ]
     },
     "metadata": {},
     "output_type": "display_data"
    },
    {
     "data": {
      "text/plain": [
       "<matplotlib.legend.Legend at 0x210ac2c2348>"
      ]
     },
     "execution_count": 8,
     "metadata": {},
     "output_type": "execute_result"
    }
   ],
   "source": [
    "fig, ax = plt.subplots()\n",
    "ant.circuit(Cs=C_match_left).network.plot_s_db(m=0, n=0, lw=2, ax=ax)\n",
    "ant.circuit(Cs=C_match_right).network.plot_s_db(m=1, n=1, lw=2, ls='--', ax=ax)\n",
    "ax.legend(('Left side matched (right unmatched)', \n",
    "           'Right side matched (left side unmatched)'))"
   ]
  },
  {
   "cell_type": "markdown",
   "metadata": {},
   "source": [
    "In reality, the precision at which one can tune the capacitance is not better than 1/100 pF, so one have to consider rounding optimal solutions to such precision :\n"
   ]
  },
  {
   "cell_type": "code",
   "execution_count": 9,
   "metadata": {},
   "outputs": [
    {
     "name": "stdout",
     "output_type": "stream",
     "text": [
      "Wrong solution (out of range capacitor) ! Re-doing...\n",
      "False solution #1: [150. 150.]\n",
      "Wrong solution (out of range capacitor) ! Re-doing...\n",
      "False solution #1: [150. 150.]\n",
      "Wrong solution (out of range capacitor) ! Re-doing...\n",
      "False solution #1: [32.54974449 32.54974449]\n",
      "True solution #1: [50.75831789 48.74412248]\n",
      "Rounded result: [50.76, 48.74, 150.0, 150.0]\n",
      "Wrong solution (out of range capacitor) ! Re-doing...\n",
      "False solution #1: [150. 150.]\n",
      "Wrong solution (out of range capacitor) ! Re-doing...\n",
      "False solution #1: [150. 150.]\n",
      "Wrong solution (out of range capacitor) ! Re-doing...\n",
      "False solution #1: [150. 150.]\n",
      "Wrong solution (out of range capacitor) ! Re-doing...\n",
      "False solution #1: [150. 150.]\n",
      "True solution #1: [50.56074253 48.93365805]\n",
      "Rounded result: [150.0, 150.0, 50.56, 48.93]\n",
      "Left side matching point:  [50.76, 48.74, 150.0, 150.0]\n",
      "Right side matching point:  [150.0, 150.0, 50.56, 48.93]\n"
     ]
    }
   ],
   "source": [
    "C_match_left = ant.match_one_side(f_match=f0, side='left', \n",
    "                                  solution_number=1, decimals=2)\n",
    "C_match_right = ant.match_one_side(f_match=f0, side='right', \n",
    "                                   solution_number=1, decimals=2)\n",
    "print('Left side matching point: ', C_match_left)\n",
    "print('Right side matching point: ', C_match_right)"
   ]
  },
  {
   "cell_type": "markdown",
   "metadata": {},
   "source": [
    "Note that the performances are slightly degraded, but, it's real life! "
   ]
  },
  {
   "cell_type": "code",
   "execution_count": 10,
   "metadata": {},
   "outputs": [
    {
     "data": {
      "application/vnd.jupyter.widget-view+json": {
       "model_id": "2ce98302a0f14ce1a59c41eb5115acab",
       "version_major": 2,
       "version_minor": 0
      },
      "text/plain": [
       "Canvas(toolbar=Toolbar(toolitems=[('Home', 'Reset original view', 'home', 'home'), ('Back', 'Back to previous …"
      ]
     },
     "metadata": {},
     "output_type": "display_data"
    },
    {
     "data": {
      "text/plain": [
       "<matplotlib.legend.Legend at 0x210ac2d74c8>"
      ]
     },
     "execution_count": 10,
     "metadata": {},
     "output_type": "execute_result"
    }
   ],
   "source": [
    "fig, ax = plt.subplots()\n",
    "ant.circuit(Cs=C_match_left).network.plot_s_db(m=0, n=0, lw=2, ax=ax)\n",
    "ant.circuit(Cs=C_match_right).network.plot_s_db(m=1, n=1, lw=2, ls='--', ax=ax)\n",
    "ax.legend(('Left side matched (right unmatched)', \n",
    "           'Right side matched (left side unmatched)'))\n",
    "ax.set_ylabel('$|S_{ii}|$ [dB]')\n",
    "ax.set_xlabel('f [MHz]')\n",
    "ax.legend(('$S_{11}$', '$S_{22}$'))"
   ]
  },
  {
   "cell_type": "markdown",
   "metadata": {},
   "source": [
    "## Frequency Shift for Dipole Excitation\n",
    "The coupling between antenna's sides requires shifting the frequency with respect to the matching frequency used for each side separately. Dipole excitation requires to shift the frequency to higher frequency to operate the antenna in a optimal conditions:"
   ]
  },
  {
   "cell_type": "code",
   "execution_count": 11,
   "metadata": {},
   "outputs": [
    {
     "name": "stdout",
     "output_type": "stream",
     "text": [
      "Optimum frequency is f_opt=55.212 MHz 0.212 MHz shift\n"
     ]
    }
   ],
   "source": [
    "# dipole excitation\n",
    "power = [1, 1]\n",
    "phase = [0, rf.pi]\n",
    "# combine both separate solutions\n",
    "C_match = [C_match_left[0], C_match_left[1], C_match_right[2], C_match_right[3]]\n",
    "# looking to the active s parameters:\n",
    "s_act = ant.s_act(power, phase, Cs=C_match)\n",
    "# finding the optimum frequency\n",
    "idx_f_opt = np.argmin(np.abs(s_act[:,0]))\n",
    "f_opt = freq.f[idx_f_opt]\n",
    "delta_f = f_opt - f0\n",
    "print(f'Optimum frequency is f_opt={f_opt/1e6} MHz {delta_f/1e6} MHz shift' )"
   ]
  },
  {
   "cell_type": "code",
   "execution_count": 12,
   "metadata": {},
   "outputs": [
    {
     "data": {
      "application/vnd.jupyter.widget-view+json": {
       "model_id": "d5b8464903d14faba972c8a6d5b57f03",
       "version_major": 2,
       "version_minor": 0
      },
      "text/plain": [
       "Canvas(toolbar=Toolbar(toolitems=[('Home', 'Reset original view', 'home', 'home'), ('Back', 'Back to previous …"
      ]
     },
     "metadata": {},
     "output_type": "display_data"
    },
    {
     "data": {
      "text/plain": [
       "<matplotlib.legend.Legend at 0x210ad3a7c88>"
      ]
     },
     "execution_count": 12,
     "metadata": {},
     "output_type": "execute_result"
    }
   ],
   "source": [
    "fig, ax = plt.subplots()\n",
    "ax.plot(freq.f_scaled, 20*np.log10(np.abs(s_act)), lw=2)\n",
    "ax.axvline(f0/1e6, ls='--', color='gray')\n",
    "ax.axvline(f_opt/1e6, ls='--', color='k')\n",
    "ax.set_ylabel('$|S_{act}|$ [dB]')\n",
    "ax.set_xlabel('f [MHz]')\n",
    "ax.legend(('$S_{act,1}$', '$S_{act,2}$'))"
   ]
  },
  {
   "cell_type": "markdown",
   "metadata": {},
   "source": [
    "## Matching Both Sides at the same time\n",
    "It is also possible to optimize the antenna directly for the target frequency and for a given excitation. Note that it takes generally longer for the `scipy` optimizer to converge, especially on vacuum loading. A better algorithm could be employed."
   ]
  },
  {
   "cell_type": "code",
   "execution_count": 90,
   "metadata": {},
   "outputs": [
    {
     "name": "stdout",
     "output_type": "stream",
     "text": [
      "Looking for individual solutions separately for 1st guess...\n",
      "True solution #1: [50.75832176 48.74412023]\n",
      "Wrong solution (out of range capacitor) ! Re-doing...\n",
      "False solution #1: [150. 150.]\n",
      "True solution #1: [50.56074269 48.93365869]\n",
      "Searching for the active match point solution...\n"
     ]
    },
    {
     "name": "stderr",
     "output_type": "stream",
     "text": [
      "C:\\Users\\JH218595\\AppData\\Local\\Continuum\\anaconda3\\lib\\site-packages\\scipy\\optimize\\_minimize.py:623: OptimizeWarning: Unknown solver options: rhoend\n",
      "  return _minimize_cobyla(fun, x0, args, constraints, **options)\n"
     ]
    },
    {
     "name": "stdout",
     "output_type": "stream",
     "text": [
      "[50.75832176 48.74412023 50.56074269 48.93365869] 1.3576940626305094\n",
      "[51.75832176 48.74412023 50.56074269 48.93365869] 1.274886982181167\n",
      "[51.75832176 49.74412023 50.56074269 48.93365869] 1.2523642255780145\n",
      "[51.75832176 49.74412023 51.56074269 48.93365869] 0.9055563286567979\n",
      "[51.75832176 49.74412023 51.56074269 49.93365869] 1.3161261108390774\n",
      "[51.91047087 49.78550337 52.19796492 48.17928085] 1.110476435691211\n",
      "[51.83439631 49.7648118  51.8793538  48.55646977] 1.013719950068031\n",
      "[51.99345932 49.80416324 51.50069968 48.93365869] 0.9422216192494802\n",
      "[51.55322783 50.10654339 51.31820477 48.80038717] 0.8951869518209916\n",
      "[51.55322783 49.9573847  51.16904609 48.66621053] 1.0680769001869896\n",
      "[51.44265245 50.34320938 51.53461742 49.16771245] 1.1899570874056409\n",
      "[51.57178183 50.16519458 51.48453242 48.62417452] 0.9800884286828089\n",
      "[51.66400871 50.15987742 51.29835493 48.8110672 ] 0.8868354107725033\n",
      "[51.71678793 50.04032831 51.09437268 48.7493128 ] 1.0085836027717778\n",
      "[51.64501821 50.20988725 51.32189323 48.92156302] 0.8988327621052956\n",
      "[51.63870969 50.20597649 51.27063665 48.79175962] 0.9063444623175266\n",
      "[51.69841659 50.16357656 51.412455   48.77353604] 0.9227511780531156\n",
      "[51.68591526 50.11517293 51.26586937 48.83036874] 0.8667206671190497\n",
      "[51.72086934 50.06488181 51.26103673 48.84185401] 0.8489553078456624\n",
      "[51.74850653 50.02231104 51.22616333 48.85253159] 0.8353969801818085\n",
      "[51.79704786 49.98492421 51.23201481 48.84166996] 0.8317083922282279\n",
      "[51.80672147 49.97169522 51.23777113 48.90170769] 0.7930410637594435\n",
      "[51.81249673 49.95311186 51.24406658 48.96076633] 0.7762978706418661\n",
      "[51.86884265 49.96547573 51.24561313 48.98476905] 0.7917377093842561\n",
      "[51.81154488 49.95726275 51.27496701 48.95887165] 0.7976794361275555\n",
      "[51.80944897 49.89869827 51.21353245 48.9627129 ] 0.7443924003011148\n",
      "[51.78291573 49.88486582 51.16448846 48.98732158] 0.7189349539215052\n",
      "[51.78244402 49.8693827  51.11448806 48.95317102] 0.7625542307942672\n",
      "[51.80973764 49.88927073 51.15472206 48.99925314] 0.709576633735738\n",
      "[51.81084993 49.85857823 51.16649146 49.05239883] 0.6882932738013252\n",
      "[51.7975535  49.90132527 51.16113952 49.0956828 ] 0.710279764303007\n",
      "[51.82044756 49.83416139 51.15028352 49.05745536] 0.6691068014172697\n",
      "[51.83644776 49.80864234 51.14385685 49.06274991] 0.6564688403490193\n",
      "[51.81821115 49.78549699 51.13350555 49.06381386] 0.6434174551344155\n",
      "[51.81822991 49.77712573 51.10770346 49.07932953] 0.6252960587176037\n",
      "[51.82129695 49.7659651  51.08013522 49.07024173] 0.6308011046544839\n",
      "[51.82880165 49.76681882 51.11234507 49.08147467] 0.6223811011567777\n",
      "[51.82180407 49.75705251 51.11195398 49.11032017] 0.6065127338235485\n",
      "[51.83996622 49.77137456 51.10551568 49.13032332] 0.6077219776534518\n",
      "[51.81130906 49.73969165 51.12155043 49.13206703] 0.601202884819648\n",
      "[51.82664884 49.74956159 51.11755271 49.15712408] 0.6106789647683413\n",
      "[51.81968217 49.72855804 51.11471509 49.13023604] 0.5926836770564474\n",
      "[51.8046275  49.72094905 51.08849082 49.13231225] 0.5737108081773677\n",
      "[51.79767908 49.69711212 51.07004586 49.12785511] 0.5701630923347405\n",
      "[51.80986912 49.70141486 51.05148679 49.14941926] 0.5490852696388424\n",
      "[51.82116991 49.71524117 51.03034616 49.13490163] 0.567409040924804\n",
      "[51.79666333 49.70814912 51.04717599 49.15183061] 0.5493989546543194\n",
      "[51.81112611 49.69154651 51.05093485 49.1790384 ] 0.5249013994680325\n",
      "[51.80512082 49.66920603 51.04861764 49.19991979] 0.5060350885447824\n",
      "[51.80541246 49.66342658 51.05784733 49.22920951] 0.5086145189307124\n",
      "[51.81299721 49.67624623 51.03807802 49.20455174] 0.5013637555339739\n",
      "[51.81078246 49.65555524 51.01481793 49.20613574] 0.4871435133364179\n",
      "[51.83774822 49.64076853 51.01710527 49.2010829 ] 0.4874155492297267\n",
      "[51.80970696 49.6489634  50.98443954 49.20915346] 0.4894614743709313\n",
      "[51.80377904 49.64694007 51.01658436 49.19528441] 0.49868114113928264\n",
      "[51.80923132 49.64872654 51.01817441 49.2196944 ] 0.4753016146505179\n",
      "[51.81241337 49.65005949 51.02054394 49.23474843] 0.4692230394082822\n",
      "[51.80740858 49.63905773 51.02536189 49.24339952] 0.4651125895375557\n",
      "[51.80325134 49.64257026 51.03453871 49.25481469] 0.4748742799098564\n",
      "[51.80211513 49.64059448 51.02012842 49.24520611] 0.4603409114114686\n",
      "[51.80605785 49.63413663 51.00760725 49.25069353] 0.44799309705137214\n",
      "[51.80121656 49.62470249 50.99627214 49.24890051] 0.44144089436598377\n",
      "[51.80076309 49.62386546 50.98613068 49.26074894] 0.42897168229488447\n",
      "[51.8039254  49.62813738 50.97198834 49.26473456] 0.423268904925432\n",
      "[51.80677786 49.61954147 50.96702182 49.27645839] 0.40984854035414897\n",
      "[51.80533034 49.61275422 50.96126047 49.28921712] 0.39619071584749055\n",
      "[51.80503101 49.60480801 50.95499294 49.30111783] 0.3829284017602091\n",
      "[51.8020225  49.60086599 50.94836667 49.31437085] 0.36965270905020325\n",
      "[51.80079744 49.59519218 50.94123708 49.32700481] 0.35637085655322803\n",
      "[51.79993638 49.59206206 50.93294381 49.33984315] 0.34335403088413896\n",
      "[51.80053028 49.58564811 50.925376   49.35190041] 0.33039649638411167\n",
      "[51.80251785 49.58422838 50.91554117 49.36379371] 0.31815728882327826\n",
      "[51.79952738 49.57899036 50.90710352 49.3754799 ] 0.3044283849530345\n",
      "[51.7940887  49.57556166 50.89865382 49.38694322] 0.2908409365094528\n",
      "[51.78998137 49.57196929 50.88990323 49.39868173] 0.2770345724883891\n",
      "[51.78462896 49.56742745 50.88178099 49.41003485] 0.2629827839282258\n",
      "[51.77870155 49.56226811 50.87406466 49.42111844] 0.248776722995739\n",
      "[51.77246564 49.55658397 50.86666488 49.43198986] 0.2344639651638151\n",
      "[51.76607934 49.5504916  50.85949576 49.44270632] 0.2200987793593947\n",
      "[51.75964608 49.54418424 50.85244137 49.45334618] 0.2057300181137014\n",
      "[51.75321184 49.53786818 50.84539135 49.46398318] 0.1913978514551982\n",
      "[51.74678835 49.53179563 50.83822727 49.47469203] 0.1771243565374733\n",
      "[51.7403685  49.52629128 50.83081968 49.48554357] 0.1629025574779186\n",
      "[51.73395292 49.52203786 50.82294438 49.4966282 ] 0.14864477277975405\n",
      "[51.72753628 49.51734387 50.81522358 49.50764287] 0.13468594033387815\n",
      "[51.72553484 49.50211336 50.81793692 49.50853957] 0.1359835002217498\n",
      "[51.72706996 49.51606432 50.809332   49.50269619] 0.14402966818371044\n",
      "[51.7269954  49.51963704 50.81787787 49.52285945] 0.1373348139087172\n",
      "[51.73437764 49.51591252 50.81189182 49.50868293] 0.1322659810204803\n",
      "[51.73058428 49.51471102 50.79680055 49.50943179] 0.13978039745520984\n",
      "[51.7424701  49.51674873 50.81676056 49.5055036 ] 0.13864115760757165\n",
      "True solution #1: [51.7424701  49.51674873 50.81676056 49.5055036 ]\n"
     ]
    }
   ],
   "source": [
    "f0 = 55e6\n",
    "freq = rf.Frequency(54, 56, npoints=1001, unit='MHz')\n",
    "ant = WestIcrhAntenna(frequency=freq)  # default is vacuum coupling\n",
    "\n",
    "# antenna excitation to match for\n",
    "power = [1, 1]  # W\n",
    "phase = [0, np.pi]  # dipole\n",
    "\n",
    "ant.DEBUG=True\n",
    "Cs = ant.match_both_sides(f_match=f0, power=power, phase=phase)\n",
    "\n",
    "# Vacuum solutions obtained for dipole\n",
    "#Cs = [52.08643927, 49.53448299, 50.62215495, 49.55183535]\n",
    "# or \n",
    "# Cs = [51.77201166, 49.51663343, 50.70719552, 49.5951604 ]"
   ]
  },
  {
   "cell_type": "code",
   "execution_count": 91,
   "metadata": {},
   "outputs": [],
   "source": [
    "# looking to the active s parameters:\n",
    "s_act = ant.s_act(power, phase, Cs=Cs)"
   ]
  },
  {
   "cell_type": "code",
   "execution_count": 92,
   "metadata": {},
   "outputs": [
    {
     "data": {
      "application/vnd.jupyter.widget-view+json": {
       "model_id": "747a200aad4742a98ae270c60eecf185",
       "version_major": 2,
       "version_minor": 0
      },
      "text/plain": [
       "Canvas(toolbar=Toolbar(toolitems=[('Home', 'Reset original view', 'home', 'home'), ('Back', 'Back to previous …"
      ]
     },
     "metadata": {},
     "output_type": "display_data"
    },
    {
     "data": {
      "text/plain": [
       "<matplotlib.legend.Legend at 0x210b32fb048>"
      ]
     },
     "execution_count": 92,
     "metadata": {},
     "output_type": "execute_result"
    }
   ],
   "source": [
    "fig, ax = plt.subplots()\n",
    "ax.plot(freq.f_scaled, 20*np.log10(np.abs(s_act)), lw=2)\n",
    "ax.axvline(f0/1e6, ls='--', color='gray')\n",
    "ax.set_ylabel('$|S_{act}|$ [dB]')\n",
    "ax.set_xlabel('f [MHz]')\n",
    "ax.legend(('$S_{act,1}$', '$S_{act,2}$'))"
   ]
  },
  {
   "cell_type": "code",
   "execution_count": 93,
   "metadata": {},
   "outputs": [
    {
     "data": {
      "text/html": [
       "<style><link href='http://fonts.googleapis.com/css?family=Fenix' rel='stylesheet' type='text/css'>\n",
       "<link href='http://fonts.googleapis.com/css?family=Alegreya+Sans:100,300,400,500,700,800,900,100italic,300italic,400italic,500italic,700italic,800italic,900italic' rel='stylesheet' type='text/css'>\n",
       "<link href='http://fonts.googleapis.com/css?family=Source+Code+Pro:300,400' rel='stylesheet' type='text/css'>\n",
       "<link href=\"https://fonts.googleapis.com/css?family=Fira+Mono\" rel=\"stylesheet\"> \n",
       "<style>\n",
       "    @font-face {\n",
       "        font-family: 'Fira Mono', monospace;\n",
       "        /*src: url('http://mirrors.ctan.org/fonts/cm-unicode/fonts/otf/cmunss.otf');*/\n",
       "    }\n",
       "    div.cell{\n",
       "        width:800px;\n",
       "        margin-left:16% !important;\n",
       "        margin-right:auto;\n",
       "    }\n",
       "    h1 {\n",
       "        font-family: 'Alegreya Sans', sans-serif;\n",
       "    }\n",
       "    h2 {\n",
       "        font-family: 'Fenix', serif;\n",
       "    }\n",
       "    h3{\n",
       "\t\tfont-family: 'Fenix', serif;\n",
       "        margin-top:12px;\n",
       "        margin-bottom: 3px;\n",
       "       }\n",
       "\th4{\n",
       "\t\tfont-family: 'Fenix', serif;\n",
       "       }\n",
       "    h5 {\n",
       "        font-family: 'Alegreya Sans', sans-serif;\n",
       "    }\t   \n",
       "    div.text_cell_render{\n",
       "        font-family: 'Fira Mono', 'Alegreya Sans',Computer Modern, \"Helvetica Neue\", Arial, Helvetica, Geneva, sans-serif;\n",
       "        line-height: 135%;\n",
       "        font-size: 120%;\n",
       "        width:700px;\n",
       "        margin-left:auto;\n",
       "        margin-right:auto;\n",
       "    }\n",
       "\n",
       "    .text_cell_render h1 {\n",
       "        font-weight: 200;\n",
       "        font-size: 30pt;\n",
       "\t\tline-height: 100%;\n",
       "        color:#CD2305;\n",
       "        margin-bottom: 0.5em;\n",
       "        margin-top: 0.5em;\n",
       "        display: block;\n",
       "    }\n",
       "\t\n",
       "    .text_cell_render h2 {\n",
       "        font-weight: 200;\n",
       "        font-size: 25pt;\n",
       "\t\tline-height: 100%;\n",
       "        color:#1a54b2;\n",
       "        margin-bottom: 0.5em;\n",
       "        margin-top: 0.5em;\n",
       "        display: block;\n",
       "    }\t\n",
       "\t\n",
       "    .text_cell_render h5 {\n",
       "        font-weight: 300;\n",
       "        font-size: 16pt;\n",
       "        color: #CD2305;\n",
       "        font-style: italic;\n",
       "        margin-bottom: .5em;\n",
       "        margin-top: 0.5em;\n",
       "        display: block;\n",
       "    }\n",
       "    \n",
       "    .warning{\n",
       "        color: rgb( 240, 20, 20 )\n",
       "        }  \n",
       "</style>\n",
       "<script>\n",
       "    MathJax.Hub.Config({\n",
       "                        TeX: {\n",
       "                           extensions: [\"AMSmath.js\"]\n",
       "                           },\n",
       "                tex2jax: {\n",
       "                    inlineMath: [ ['$','$'], [\"\\\\(\",\"\\\\)\"] ],\n",
       "                    displayMath: [ ['$$','$$'], [\"\\\\[\",\"\\\\]\"] ]\n",
       "                },\n",
       "                displayAlign: 'center', // Change this to 'center' to center equations.\n",
       "                \"HTML-CSS\": {\n",
       "                    styles: {'.MathJax_Display': {\"margin\": 4}}\n",
       "                }\n",
       "        });\n",
       "</script>\n",
       "</style>"
      ],
      "text/plain": [
       "<IPython.core.display.HTML object>"
      ]
     },
     "execution_count": 93,
     "metadata": {},
     "output_type": "execute_result"
    }
   ],
   "source": [
    "from IPython.core.display import HTML\n",
    "def _set_css_style(css_file_path):\n",
    "    \"\"\"\n",
    "    Read the custom CSS file and load it into Jupyter\n",
    "    Pass the file path to the CSS file\n",
    "    \"\"\"\n",
    "    styles = open(css_file_path, \"r\").read()\n",
    "    s = '<style>%s</style>' % styles\n",
    "    return HTML(s)\n",
    "\n",
    "_set_css_style('custom.css')"
   ]
  },
  {
   "cell_type": "code",
   "execution_count": null,
   "metadata": {},
   "outputs": [],
   "source": []
  }
 ],
 "metadata": {
  "kernelspec": {
   "display_name": "Python 3",
   "language": "python",
   "name": "python3"
  },
  "language_info": {
   "codemirror_mode": {
    "name": "ipython",
    "version": 3
   },
   "file_extension": ".py",
   "mimetype": "text/x-python",
   "name": "python",
   "nbconvert_exporter": "python",
   "pygments_lexer": "ipython3",
   "version": "3.7.8"
  }
 },
 "nbformat": 4,
 "nbformat_minor": 4
}
