{
 "cells": [
  {
   "cell_type": "markdown",
   "id": "8cb72960",
   "metadata": {},
   "source": [
    "# Plasma Scattering Matrix Measurement\n",
    "This notebook aims to illustrate the methodology to measure the plasma/antenna S-matrix of a WEST plasma."
   ]
  },
  {
   "cell_type": "code",
   "execution_count": 1,
   "id": "be2a4c39",
   "metadata": {},
   "outputs": [],
   "source": [
    "%load_ext autoreload\n",
    "%autoreload 2"
   ]
  },
  {
   "cell_type": "markdown",
   "id": "48e079ef-a429-419f-beb7-838122129be7",
   "metadata": {},
   "source": [
    "# Numerical Reference\n",
    "Before going into the mathematical details and numerical implementation, let's first create a numerical reference antenna. This reference model will serve us to simulate the behaviour of a real antenna when excited by different  power and phase. "
   ]
  },
  {
   "cell_type": "code",
   "execution_count": 2,
   "id": "8c25b196",
   "metadata": {},
   "outputs": [],
   "source": [
    "import matplotlib.pyplot as plt\n",
    "import numpy as np\n",
    "import skrf as rf\n",
    "rf.stylely()  # pretty plots\n",
    "from tqdm.notebook import tqdm\n",
    "# WEST ICRH Antenna package\n",
    "import sys; sys.path.append('..')\n",
    "from west_ic_antenna import WestIcrhAntenna"
   ]
  },
  {
   "cell_type": "code",
   "execution_count": 3,
   "id": "3f74426c",
   "metadata": {},
   "outputs": [
    {
     "data": {
      "text/plain": [
       "4-Port Network: 'Full_torus_ICLH_plasma_6s_HFSSDesign1',  0.055-0.055 GHz, 1 pts, z0=[46.6303376 +0.j 46.63063457+0.j 46.62013232+0.j 46.6304588 +0.j]"
      ]
     },
     "execution_count": 3,
     "metadata": {},
     "output_type": "execute_result"
    }
   ],
   "source": [
    "# S-matrix from HFSS non-homogeneous realistic Cold Plasma\n",
    "Smat_ref = rf.Network('Full_torus_ICLH_plasma_6s_HFSSDesign1.s4p')\n",
    "Smat_ref"
   ]
  },
  {
   "cell_type": "code",
   "execution_count": 4,
   "id": "b69a6a15",
   "metadata": {},
   "outputs": [],
   "source": [
    "ant_ref = WestIcrhAntenna(frequency=Smat_ref.frequency, front_face=Smat_ref)"
   ]
  },
  {
   "cell_type": "markdown",
   "id": "d6a6ca79-1933-4d3b-a148-e4227e0b0357",
   "metadata": {},
   "source": [
    "Let's find the best capacitor set to match the antenna: "
   ]
  },
  {
   "cell_type": "code",
   "execution_count": 5,
   "id": "7cf8427a",
   "metadata": {},
   "outputs": [],
   "source": [
    "# perfect dipole excitation\n",
    "powers = [1e6, 1e6]\n",
    "phases = [0, np.pi]"
   ]
  },
  {
   "cell_type": "code",
   "execution_count": 6,
   "id": "4a76120c",
   "metadata": {},
   "outputs": [
    {
     "name": "stdout",
     "output_type": "stream",
     "text": [
      "Looking for individual solutions separately for 1st guess...\n",
      "True solution #1: [58.01034275 49.97464714]\n",
      "Wrong solution (out of range capacitor) ! Re-doing...\n",
      "False solution #1: [45.46044926 12.        ]\n",
      "True solution #1: [57.90207118 49.90862901]\n",
      "Searching for the active match point solution...\n",
      "Reducing search range to +/- 5pF around individual solutions\n",
      "True solution #1: [59.73644167 50.15877265 59.69761854 50.20002129]\n"
     ]
    }
   ],
   "source": [
    "C_match = ant_ref.match_both_sides(f_match=55e6, power=powers, phase=phases)"
   ]
  },
  {
   "cell_type": "markdown",
   "id": "1a931b8e-6c59-484d-a7ea-a0e7df1c2b12",
   "metadata": {},
   "source": [
    "To verify the matching, let's look at the SWR as seen from the back of the antenna:"
   ]
  },
  {
   "cell_type": "code",
   "execution_count": 7,
   "id": "2207778d",
   "metadata": {},
   "outputs": [
    {
     "data": {
      "text/plain": [
       "array([1.00234471, 1.00167276])"
      ]
     },
     "execution_count": 7,
     "metadata": {},
     "output_type": "execute_result"
    }
   ],
   "source": [
    "ant_ref.vswr_act(powers, phases, Cs=C_match)"
   ]
  },
  {
   "cell_type": "markdown",
   "id": "5bca3a65-7f38-4fe1-850c-76ae1df41310",
   "metadata": {},
   "source": [
    "# Problem Description\n",
    "One WEST ICRH antenna radiating on plasma can be model as the following Figure.\n",
    "\n",
    "<center><img src=\"West_Antenna_Simplified_Electric_Model.png\" align=\"center\" width=\"600\"/></center>\n",
    "\n",
    "where:\n",
    "- $\\mathbf{S}^p$ is the plasma/front-face S-parameters\n",
    "- $\\mathbf{S}^{mL}$ and $\\mathbf{S}^{mR}$ are the antenna side modules. Capacitors are embedded in these modules, so $\\mathbf{S}^{mL}$ depends on $C_1$ and $C_2$ and $\\mathbf{S}^{mR}$ depends on $C_3$ and $C_4$ capacitances. In the following, these two modules are supposed to be known (from the electric modelling of the antenna).\n",
    "- $\\mathbf{S}^{ant}$ represents both modules\n",
    "- $\\mathbf{S}^{mes}$ is the S-parameters directly accessible from the RF measurements realized behind the antenna (see after for details)"
   ]
  },
  {
   "cell_type": "markdown",
   "id": "f0665b0f-f682-41de-9f67-1b07144cd538",
   "metadata": {},
   "source": [
    "We have per definition for $\\mathbf{S}^{mes}$:\n",
    "$$\n",
    "\\left(\n",
    "\\begin{array}{c}\n",
    "b^L \\\\\n",
    "b^R\n",
    "\\end{array}\n",
    "\\right)\n",
    "=\n",
    "\\mathbf{S}^{mes}\n",
    "\\left(\n",
    "\\begin{array}{c}\n",
    "a^L \\\\\n",
    "a^R\n",
    "\\end{array}\n",
    "\\right)\n",
    "$$"
   ]
  },
  {
   "cell_type": "markdown",
   "id": "51eae3a3-d4ff-4006-b348-76ec0af2d578",
   "metadata": {},
   "source": [
    "and for $\\mathbf{S}^{p}$\n",
    "$$\n",
    "\\left(\n",
    "\\begin{array}{c}\n",
    "b_1 \\\\\n",
    "\\vdots \\\\\n",
    "b_4\n",
    "\\end{array}\n",
    "\\right)\n",
    "=\n",
    "\\mathbf{b}^p\n",
    "=\n",
    "\\mathbf{S}^p\n",
    "\\mathbf{a}^p\n",
    "=\n",
    "\\mathbf{S}^p\n",
    "\\left(\n",
    "\\begin{array}{c}\n",
    "a_1 \\\\\n",
    "\\vdots \\\\\n",
    "a_4\n",
    "\\end{array}\n",
    "\\right)\n",
    "$$"
   ]
  },
  {
   "cell_type": "markdown",
   "id": "5dc71ea4-802e-4748-8346-48f61e435aaa",
   "metadata": {},
   "source": [
    "and for $\\mathbf{S}^{ant}$,\n",
    "$$\n",
    "\\left(\n",
    "\\begin{array}{c}\n",
    "b_L \\\\\n",
    "b_R \\\\\n",
    "\\mathbf{a}^p\n",
    "\\end{array}\n",
    "\\right)\n",
    "=\n",
    "\\mathbf{S}^{ant}\n",
    "\\left(\n",
    "\\begin{array}{c}\n",
    "a_L \\\\\n",
    "a_R \\\\\n",
    "\\mathbf{b}^p\n",
    "\\end{array}\n",
    "\\right)\n",
    "$$\n",
    "as some output waves of the modules are the input waves of the plasma."
   ]
  },
  {
   "cell_type": "markdown",
   "id": "7e740fd5",
   "metadata": {},
   "source": [
    "With the previous notation, it is convenient to decompose the antenna S-matrix $\\mathbf{S}^{ant}$ into 4 submatrices $\\mathbf{S}^{ant}_{11}, \\mathbf{S}^{ant}_{12}, \\mathbf{S}^{ant}_{21}, \\mathbf{S}^{ant}_{22}$:\n",
    "$$\n",
    "\\mathbf{S}^{ant}\n",
    "=\n",
    "\\left(\n",
    "\\begin{array}{cc}\n",
    "\\mathbf{S}^{ant}_{11} & \\mathbf{S}^{ant}_{12} \\\\\n",
    "\\mathbf{S}^{ant}_{21} & \\mathbf{S}^{ant}_{22}\n",
    "\\end{array}\n",
    "\\right)\n",
    "$$\n",
    "where:\n",
    "- $\\mathbf{S}^{ant}_{11}$ is of shape (2,2)\n",
    "- $\\mathbf{S}^{ant}_{12}$ is of shape (2,4)\n",
    "- $\\mathbf{S}^{ant}_{21}$ is of shape (4,2) and\n",
    "- $\\mathbf{S}^{ant}_{22}$ is of shape (4,4)"
   ]
  },
  {
   "cell_type": "markdown",
   "id": "39779f2f",
   "metadata": {},
   "source": [
    "This notation allows to expand the previous definition as:\n",
    "$$\n",
    "\\left(\n",
    "\\begin{array}{c}\n",
    "b^L \\\\\n",
    "b^R\n",
    "\\end{array}\n",
    "\\right)\n",
    "=\n",
    "\\mathbf{S}^{ant}_{11}\n",
    "\\left(\n",
    "\\begin{array}{c}\n",
    "a^L \\\\\n",
    "a^R\n",
    "\\end{array}\n",
    "\\right)\n",
    "+\n",
    "\\mathbf{S}^{ant}_{12}\n",
    "\\mathbf{b}^p\n",
    "$$\n",
    "and\n",
    "$$\n",
    "\\mathbf{a}^p\n",
    "=\n",
    "\\mathbf{S}^{ant}_{21}\n",
    "\\left(\n",
    "\\begin{array}{c}\n",
    "a^L \\\\\n",
    "a^R\n",
    "\\end{array}\n",
    "\\right)\n",
    "+\n",
    "\\mathbf{S}^{ant}_{22}\n",
    "\\mathbf{b}^p\n",
    "$$"
   ]
  },
  {
   "cell_type": "markdown",
   "id": "1093ad60-e9e9-44ca-ac94-fb739af2f1f8",
   "metadata": {},
   "source": [
    "Inserting the definition of $S$^p leads to:\n",
    "$$\n",
    "\\left(\n",
    "\\begin{array}{c}\n",
    "b^L \\\\\n",
    "b^R\n",
    "\\end{array}\n",
    "\\right)\n",
    "=\n",
    "\\left[\n",
    "\\mathbf{S}^{ant}_{11}\n",
    "+\n",
    "\\mathbf{S}^{ant}_{12} \\mathbf{S}^p \n",
    "\\left(\\mathbf{1} - \\mathbf{S}^{ant}_{22} \\mathbf{S}^p \\right)^{-1} \n",
    "\\mathbf{S}^{ant}_{21}\n",
    "\\right]\n",
    "\\left(\n",
    "\\begin{array}{c}\n",
    "a^L \\\\\n",
    "a^R\n",
    "\\end{array}\n",
    "\\right)\n",
    "$$"
   ]
  },
  {
   "cell_type": "markdown",
   "id": "2fdd28b0-302a-4c90-81bd-a50e7c6a3cc0",
   "metadata": {},
   "source": [
    "which matches the definition of $S^{mes}$, hence by identification:\n",
    "$$\n",
    "\\boxed{\n",
    "\\mathbf{S}^{mes}\n",
    "=\n",
    "\\mathbf{S}^{ant}_{11}\n",
    "+\n",
    "\\mathbf{S}^{ant}_{12} \\mathbf{S}^p \n",
    "\\left(\\mathbf{1} - \\mathbf{S}^{ant}_{22} \\mathbf{S}^p \\right)^{-1} \n",
    "\\mathbf{S}^{ant}_{21}\n",
    "}\n",
    "$$"
   ]
  },
  {
   "cell_type": "markdown",
   "id": "4f236c19-d1f1-44ad-9315-40a516ab51c8",
   "metadata": {},
   "source": [
    "$\\mathbf{S}^{mes}$ can be measured using (at least) two different set of antenna excitation, ie. forward waves $(a^L, a^R)$ and associated reflected waves $(b^L, b^R)$: \n",
    "$$\n",
    "\\left(\n",
    "\\begin{array}{cc}\n",
    "b_L^{(1)} & b_L^{(2)}  \\\\\n",
    "b_R^{(1)} & b_R^{(2)}  \\\\\n",
    "\\end{array}\n",
    "\\right)\n",
    "=\n",
    "\\mathbf{S}^{mes}\n",
    "\\left(\n",
    "\\begin{array}{cc}\n",
    "a_L^{(1)} & a_L^{(2)}  \\\\\n",
    "a_R^{(1)} & a_R^{(2)}  \\\\\n",
    "\\end{array}\n",
    "\\right)\n",
    "$$"
   ]
  },
  {
   "cell_type": "markdown",
   "id": "2c4bd568-b306-4d0c-a67c-360abe148d54",
   "metadata": {},
   "source": [
    "which leads to:\n",
    "$$\n",
    "\\mathbf{S}^{mes} \n",
    "= \n",
    "\\left(\n",
    "\\begin{array}{cc}\n",
    "b_L^{(1)} & b_L^{(2)}  \\\\\n",
    "b_R^{(1)} & b_R^{(2)}  \\\\\n",
    "\\end{array}\n",
    "\\right)\n",
    "\\left(\n",
    "\\begin{array}{cc}\n",
    "a_L^{(1)} & a_L^{(2)}  \\\\\n",
    "a_R^{(1)} & a_R^{(2)}  \\\\\n",
    "\\end{array}\n",
    "\\right)^{-1}\n",
    "$$"
   ]
  },
  {
   "cell_type": "markdown",
   "id": "956ff34d-4bcc-440b-a5d6-db3025b3b873",
   "metadata": {},
   "source": [
    "From the knowledge of $\\mathbf{S}^{mes}$, one can deduce $\\mathbf{S}^p$:\n",
    "$$\n",
    "\\boxed{\n",
    "\\mathbf{S}^p\n",
    "=\n",
    "\\left(\n",
    "\\mathbf{1} + \\mathbf{M} \\mathbf{S}_{22}^{ant}\n",
    "\\right)^{-1}\n",
    "\\mathbf{M}\n",
    "}\n",
    "$$"
   ]
  },
  {
   "cell_type": "markdown",
   "id": "2ca8046a-5909-4b97-9965-745f4e155b71",
   "metadata": {},
   "source": [
    "with:\n",
    "$$\n",
    "\\mathbf{M}\n",
    "=\n",
    "\\left(\n",
    "S_{12}^{ant}\n",
    "\\right)^{-1}\n",
    "\\left(\n",
    "\\mathbf{S}^{mes} - S_{11}^{ant}\n",
    "\\right)\n",
    "\\left(\n",
    "S_{21}^{ant}\n",
    "\\right)^{-1}\n",
    "$$\n",
    "where the inverse of $S_{12}^{ant}$ and $S_{12}^{ant}$ are pseudo-inverse matrices."
   ]
  },
  {
   "cell_type": "markdown",
   "id": "aba9a57d",
   "metadata": {},
   "source": [
    "# Numerical Test"
   ]
  },
  {
   "cell_type": "markdown",
   "id": "08c38f9a-b098-4958-8aee-862f136270ce",
   "metadata": {},
   "source": [
    "## Antenna Excitations"
   ]
  },
  {
   "cell_type": "markdown",
   "id": "cb38b914",
   "metadata": {},
   "source": [
    "Numerical measured quantities behind the antenna $a^{mes}$ and $b^{mes}$ for a set of excitation (power and phase)"
   ]
  },
  {
   "cell_type": "code",
   "execution_count": 8,
   "id": "01f2e787",
   "metadata": {},
   "outputs": [
    {
     "name": "stdout",
     "output_type": "stream",
     "text": [
      "(2, 2) (2, 2)\n"
     ]
    }
   ],
   "source": [
    "# phase scan (constant power)\n",
    "dphis = np.pi + np.deg2rad(np.array([-30, 20])) # dipole + some phase shift\n",
    "powers = np.array([[1, 1], [1, 1]]) \n",
    "_as = []\n",
    "_bs = []\n",
    "\n",
    "for power, dphi in zip(powers, dphis):\n",
    "    _phase = [0, np.pi + dphi]\n",
    "    _a = ant_ref.circuit(Cs=C_match)._a_external(power, _phase)\n",
    "    _as.append(_a)\n",
    "    _bs.append(ant_ref.circuit(Cs=C_match).s_external @ _a)\n",
    "\n",
    "a_mes = np.array(_as)\n",
    "b_mes = np.array(_bs).squeeze()\n",
    "\n",
    "# adding some noise\n",
    "noise_level = 1e-3\n",
    "noise_a = noise_level*(np.random.rand(2,2) + 1j*np.random.rand(2,2))\n",
    "noise_b = noise_level*(np.random.rand(2,2) + 1j*np.random.rand(2,2))\n",
    "a_mes += noise_a\n",
    "b_mes += noise_b\n",
    "\n",
    "print(a_mes.shape, b_mes.shape)"
   ]
  },
  {
   "cell_type": "raw",
   "id": "390a27cd",
   "metadata": {},
   "source": [
    "fig, axes = plt.subplots(2,2)\n",
    "axes[0,0].stem(np.abs(a_mes[:,0])**2 / 2 / 1e6)\n",
    "axes[0,1].stem(np.abs(a_mes[:,1])**2 / 2 / 1e6)\n",
    "axes[1,0].stem(np.angle(a_mes[:,0], deg=True))\n",
    "axes[1,1].stem(np.angle(a_mes[:,1], deg=True))\n",
    "axes[0,0].set_title('$a_L$')\n",
    "axes[0,1].set_title('$a_R$')\n",
    "axes[0,0].set_ylabel('Power [MW]')\n",
    "axes[1,0].set_ylabel('Phase [deg]')"
   ]
  },
  {
   "cell_type": "code",
   "execution_count": 9,
   "id": "d6d706e7",
   "metadata": {},
   "outputs": [
    {
     "data": {
      "text/plain": [
       "array([[-0.2457543 +0.72203664j, -0.25824202+0.67989016j],\n",
       "       [-0.53823572+0.5616933j , -0.53116567+0.51638929j]])"
      ]
     },
     "execution_count": 9,
     "metadata": {},
     "output_type": "execute_result"
    }
   ],
   "source": [
    "b_mes"
   ]
  },
  {
   "cell_type": "raw",
   "id": "0eb5eed2",
   "metadata": {},
   "source": [
    "fig, axes = plt.subplots(2,2)\n",
    "axes[0,0].stem(np.abs(b_mes[:,0])**2 / 2 / 1e6)\n",
    "axes[0,1].stem(np.abs(b_mes[:,1])**2 / 2 / 1e6)\n",
    "axes[1,0].stem(np.angle(b_mes[:,0], deg=True))\n",
    "axes[1,1].stem(np.angle(b_mes[:,1], deg=True))\n",
    "axes[0,0].set_title('$b_L$')\n",
    "axes[0,1].set_title('$b_R$')\n",
    "axes[0,0].set_ylabel('Power [MW]')\n",
    "axes[1,0].set_ylabel('Phase [deg]')"
   ]
  },
  {
   "cell_type": "markdown",
   "id": "c80ffefe-03ae-48d5-b12e-c840e3ad44c7",
   "metadata": {},
   "source": [
    "## Antenna S-matrix"
   ]
  },
  {
   "cell_type": "markdown",
   "id": "4a9d6807",
   "metadata": {},
   "source": [
    "Since we have for $M=2$ measurements \n",
    "$$\n",
    "\\mathbf{B}^{mes}\n",
    "=\n",
    "\\left(\n",
    "\\begin{array}{cc}\n",
    "b_L^{(1)} & b_L^{(2)}  \\\\\n",
    "b_R^{(1)} & b_R^{(2)}  \\\\\n",
    "\\end{array}\n",
    "\\right)\n",
    "=\n",
    "\\mathbf{S}^{mes}\n",
    "\\left(\n",
    "\\begin{array}{cc}\n",
    "a_L^{(1)} & a_L^{(2)}  \\\\\n",
    "a_R^{(1)} & a_R^{(2)}  \\\\\n",
    "\\end{array}\n",
    "\\right)\n",
    "=\n",
    "\\mathbf{S}^{mes}\n",
    "\\mathbf{A}^{mes}\n",
    "$$"
   ]
  },
  {
   "cell_type": "code",
   "execution_count": 10,
   "id": "97237d6a",
   "metadata": {},
   "outputs": [],
   "source": [
    "A_mes = a_mes.T"
   ]
  },
  {
   "cell_type": "code",
   "execution_count": 11,
   "id": "779cb14e",
   "metadata": {},
   "outputs": [],
   "source": [
    "B_mes = b_mes.T"
   ]
  },
  {
   "cell_type": "markdown",
   "id": "dbf0e689",
   "metadata": {},
   "source": [
    "So, \n",
    "$$\n",
    "\\mathbf{S}^{mes} = \\mathbf{B}^{mes} \\left( \\mathbf{A}^{mes} \\right)^{-1}\n",
    "$$"
   ]
  },
  {
   "cell_type": "code",
   "execution_count": 12,
   "id": "2fe8ad9a",
   "metadata": {},
   "outputs": [
    {
     "data": {
      "text/plain": [
       "(2, 2)"
      ]
     },
     "execution_count": 12,
     "metadata": {},
     "output_type": "execute_result"
    }
   ],
   "source": [
    "S_mes = B_mes @ np.linalg.inv(A_mes)\n",
    "S_mes.shape"
   ]
  },
  {
   "cell_type": "code",
   "execution_count": 13,
   "id": "50c08b95",
   "metadata": {},
   "outputs": [
    {
     "name": "stdout",
     "output_type": "stream",
     "text": [
      "[[0.27908672 0.2792119 ]\n",
      " [0.26561191 0.26632157]]\n",
      "[[0.27915214 0.27927439]\n",
      " [0.26592514 0.26593378]]\n"
     ]
    }
   ],
   "source": [
    "\n",
    "V_exp = np.abs(S_mes.squeeze())\n",
    "V_the = np.abs(ant_ref.circuit(Cs=C_match).network.s.squeeze())\n",
    "\n",
    "print(V_exp)\n",
    "print(V_the)"
   ]
  },
  {
   "cell_type": "code",
   "execution_count": 22,
   "id": "62561a33",
   "metadata": {},
   "outputs": [
    {
     "data": {
      "image/png": "[encoded data removed]",
      "text/plain": [
       "<Figure size 1440x1200 with 2 Axes>"
      ]
     },
     "metadata": {},
     "output_type": "display_data"
    }
   ],
   "source": [
    "fig, axes = plt.subplots(1,2, figsize=(12,10))\n",
    "\n",
    "axes[0].matshow(V_exp, cmap=plt.cm.Blues, vmin=0, vmax=1)\n",
    "axes[0].set_title('Deduced')\n",
    "axes[1].matshow(V_the, cmap=plt.cm.Blues, vmin=0, vmax=1)\n",
    "axes[1].set_title('Reference')\n",
    "for i in range(2):\n",
    "    for j in range(2):\n",
    "        axes[1].text(i, j, f'{V_the[j,i]:.3}', va='center', ha='center')\n",
    "        axes[0].text(i, j, f'{V_exp[j,i]:.3}', va='center', ha='center')"
   ]
  },
  {
   "cell_type": "code",
   "execution_count": 15,
   "id": "d9d3dcd0",
   "metadata": {},
   "outputs": [
    {
     "name": "stdout",
     "output_type": "stream",
     "text": [
      "[[123.76150267 123.78238164]\n",
      " [125.60612043 125.97455712]]\n",
      "[[123.98632773 123.7473502 ]\n",
      " [125.74244947 125.92249162]]\n"
     ]
    }
   ],
   "source": [
    "V_exp2 = np.angle(S_mes.squeeze(), deg=True)\n",
    "V_the2 = np.angle(ant_ref.circuit(Cs=C_match).network.s.squeeze(), deg=True)\n",
    "\n",
    "print(V_exp2)\n",
    "print(V_the2)"
   ]
  },
  {
   "cell_type": "markdown",
   "id": "5f711b17-d5fb-439b-b991-2ad3fe4a1e1f",
   "metadata": {},
   "source": [
    "It works for the antenna S-matrix !"
   ]
  },
  {
   "cell_type": "markdown",
   "id": "fb426451",
   "metadata": {},
   "source": [
    "## Plasma/Front-Face Scattering Parameters"
   ]
  },
  {
   "cell_type": "code",
   "execution_count": 16,
   "id": "5ca648c1-1256-4cff-bd13-cc1ce876fe6a",
   "metadata": {},
   "outputs": [
    {
     "name": "stdout",
     "output_type": "stream",
     "text": [
      "(1, 6, 6)\n"
     ]
    }
   ],
   "source": [
    "access = ant_ref._access_circuit(Cs=C_match).network\n",
    "S_ant = access.s\n",
    "print(S_ant.shape)"
   ]
  },
  {
   "cell_type": "code",
   "execution_count": 17,
   "id": "f02cb86a-b0f0-45b1-a975-e4a2e45b96e4",
   "metadata": {},
   "outputs": [],
   "source": [
    "S_ant11 = S_ant[:,:2,:2].squeeze()\n",
    "S_ant12 = S_ant[:,:2,2:].squeeze()\n",
    "S_ant21 = S_ant[:,2:,:2].squeeze()\n",
    "S_ant22 = S_ant[:,2:,2:].squeeze()"
   ]
  },
  {
   "cell_type": "markdown",
   "id": "d2388800",
   "metadata": {},
   "source": [
    "The plasma matrix is:\n",
    "$$\n",
    "\\mathbf{S}^p\n",
    "=\n",
    "\\left(\n",
    "\\mathbf{1} + \\mathbf{M} \\mathbf{S}_{11}^{ant}\n",
    "\\right)^{-1}\n",
    "\\mathbf{M}\n",
    "$$"
   ]
  },
  {
   "cell_type": "code",
   "execution_count": 18,
   "id": "3f8d66ed",
   "metadata": {},
   "outputs": [
    {
     "data": {
      "text/plain": [
       "(4, 4)"
      ]
     },
     "execution_count": 18,
     "metadata": {},
     "output_type": "execute_result"
    }
   ],
   "source": [
    "M = np.linalg.pinv(S_ant12) @ (S_mes - S_ant11) @ np.linalg.pinv(S_ant21)\n",
    "M.shape"
   ]
  },
  {
   "cell_type": "code",
   "execution_count": 19,
   "id": "b6174aac",
   "metadata": {},
   "outputs": [
    {
     "data": {
      "text/plain": [
       "(4, 4)"
      ]
     },
     "execution_count": 19,
     "metadata": {},
     "output_type": "execute_result"
    }
   ],
   "source": [
    "S_p = np.linalg.inv(np.eye(len(M)) + M @ S_ant22) @ M\n",
    "S_p.shape"
   ]
  },
  {
   "cell_type": "code",
   "execution_count": 23,
   "id": "170e840d",
   "metadata": {},
   "outputs": [
    {
     "data": {
      "image/png": "[encoded data removed]",
      "text/plain": [
       "<Figure size 960x720 with 2 Axes>"
      ]
     },
     "metadata": {},
     "output_type": "display_data"
    }
   ],
   "source": [
    "fig, axes = plt.subplots(1,2, figsize=(8,6))\n",
    "v_exp = np.abs(S_p.squeeze())\n",
    "v_ref = np.abs(Smat_ref.s.squeeze())\n",
    "\n",
    "axes[0].matshow(v_exp, cmap=plt.cm.Blues, vmin=0, vmax=1)\n",
    "axes[0].set_title('Deduced')\n",
    "axes[1].matshow(v_ref, cmap=plt.cm.Blues, vmin=0, vmax=1)       \n",
    "axes[1].set_title('Reference')\n",
    "for i in range(4):\n",
    "    for j in range(4):\n",
    "        axes[0].text(i, j, f'{v_exp[j,i]:.3}', va='center', ha='center')\n",
    "        axes[1].text(i, j, f'{v_ref[j,i]:.3}', va='center', ha='center')"
   ]
  },
  {
   "cell_type": "markdown",
   "id": "308e75b6-3509-4887-8edb-8829748630e3",
   "metadata": {},
   "source": [
    "It doesn't work!"
   ]
  },
  {
   "cell_type": "markdown",
   "id": "1f177139-0d1e-41ee-8ef4-6a7f6300b701",
   "metadata": {},
   "source": [
    "# CSS"
   ]
  },
  {
   "cell_type": "code",
   "execution_count": 21,
   "id": "d2010bbd-e0f1-4346-b12f-10968a137ef5",
   "metadata": {},
   "outputs": [
    {
     "data": {
      "text/html": [
       "<style><link href='http://fonts.googleapis.com/css?family=Fenix' rel='stylesheet' type='text/css'>\n",
       "<link href='http://fonts.googleapis.com/css?family=Alegreya+Sans:100,300,400,500,700,800,900,100italic,300italic,400italic,500italic,700italic,800italic,900italic' rel='stylesheet' type='text/css'>\n",
       "<link href='http://fonts.googleapis.com/css?family=Source+Code+Pro:300,400' rel='stylesheet' type='text/css'>\n",
       "<link href=\"https://fonts.googleapis.com/css?family=Fira+Mono\" rel=\"stylesheet\"> \n",
       "<style>\n",
       "    @font-face {\n",
       "        font-family: 'Fira Mono', monospace;\n",
       "        /*src: url('http://mirrors.ctan.org/fonts/cm-unicode/fonts/otf/cmunss.otf');*/\n",
       "    }\n",
       "    div.cell{\n",
       "        width:800px;\n",
       "        margin-left:16% !important;\n",
       "        margin-right:auto;\n",
       "    }\n",
       "    h1 {\n",
       "        font-family: 'Alegreya Sans', sans-serif;\n",
       "    }\n",
       "    h2 {\n",
       "        font-family: 'Fenix', serif;\n",
       "    }\n",
       "    h3{\n",
       "\t\tfont-family: 'Fenix', serif;\n",
       "        margin-top:12px;\n",
       "        margin-bottom: 3px;\n",
       "       }\n",
       "\th4{\n",
       "\t\tfont-family: 'Fenix', serif;\n",
       "       }\n",
       "    h5 {\n",
       "        font-family: 'Alegreya Sans', sans-serif;\n",
       "    }\t   \n",
       "    div.text_cell_render{\n",
       "        font-family: 'Fira Mono', 'Alegreya Sans',Computer Modern, \"Helvetica Neue\", Arial, Helvetica, Geneva, sans-serif;\n",
       "        line-height: 135%;\n",
       "        font-size: 120%;\n",
       "        width:700px;\n",
       "        margin-left:auto;\n",
       "        margin-right:auto;\n",
       "    }\n",
       "\n",
       "    .text_cell_render h1 {\n",
       "        font-weight: 200;\n",
       "        font-size: 30pt;\n",
       "\t\tline-height: 100%;\n",
       "        color:#CD2305;\n",
       "        margin-bottom: 0.5em;\n",
       "        margin-top: 0.5em;\n",
       "        display: block;\n",
       "    }\n",
       "\t\n",
       "    .text_cell_render h2 {\n",
       "        font-weight: 200;\n",
       "        font-size: 25pt;\n",
       "\t\tline-height: 100%;\n",
       "        color:#1a54b2;\n",
       "        margin-bottom: 0.5em;\n",
       "        margin-top: 0.5em;\n",
       "        display: block;\n",
       "    }\t\n",
       "\t\n",
       "    .text_cell_render h5 {\n",
       "        font-weight: 300;\n",
       "        font-size: 16pt;\n",
       "        color: #CD2305;\n",
       "        font-style: italic;\n",
       "        margin-bottom: .5em;\n",
       "        margin-top: 0.5em;\n",
       "        display: block;\n",
       "    }\n",
       "    \n",
       "    .warning{\n",
       "        color: rgb( 240, 20, 20 )\n",
       "        }  \n",
       "</style>\n",
       "<script>\n",
       "    MathJax.Hub.Config({\n",
       "                        TeX: {\n",
       "                           extensions: [\"AMSmath.js\"]\n",
       "                           },\n",
       "                tex2jax: {\n",
       "                    inlineMath: [ ['$','$'], [\"\\\\(\",\"\\\\)\"] ],\n",
       "                    displayMath: [ ['$$','$$'], [\"\\\\[\",\"\\\\]\"] ]\n",
       "                },\n",
       "                displayAlign: 'center', // Change this to 'center' to center equations.\n",
       "                \"HTML-CSS\": {\n",
       "                    styles: {'.MathJax_Display': {\"margin\": 4}}\n",
       "                }\n",
       "        });\n",
       "</script>\n",
       "</style>"
      ],
      "text/plain": [
       "<IPython.core.display.HTML object>"
      ]
     },
     "execution_count": 21,
     "metadata": {},
     "output_type": "execute_result"
    }
   ],
   "source": [
    "from IPython.core.display import HTML\n",
    "def _set_css_style(css_file_path):\n",
    "    \"\"\"\n",
    "    Read the custom CSS file and load it into Jupyter\n",
    "    Pass the file path to the CSS file\n",
    "    \"\"\"\n",
    "    styles = open(css_file_path, \"r\").read()\n",
    "    s = '<style>%s</style>' % styles\n",
    "    return HTML(s)\n",
    "\n",
    "_set_css_style('custom.css')"
   ]
  }
 ],
 "metadata": {
  "kernelspec": {
   "display_name": "Python 3 (ipykernel)",
   "language": "python",
   "name": "python3"
  },
  "language_info": {
   "codemirror_mode": {
    "name": "ipython",
    "version": 3
   },
   "file_extension": ".py",
   "mimetype": "text/x-python",
   "name": "python",
   "nbconvert_exporter": "python",
   "pygments_lexer": "ipython3",
   "version": "3.10.8"
  }
 },
 "nbformat": 4,
 "nbformat_minor": 5
}
