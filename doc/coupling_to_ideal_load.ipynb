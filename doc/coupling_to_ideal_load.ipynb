{
 "cells": [
  {
   "cell_type": "markdown",
   "metadata": {},
   "source": [
    "# Coupling to Ideal Loads\n",
    "In this notebook, we investigate the WEST ICRH antenna behaviour when the front-face is considered as the combination of ideal (and independant) loads made of impedances all equal to $Z_s=R_c+j X_s$, where $R_c$ corresponds to the coupling resistance and $X_s$ is the strap reactance.  \n",
    "\n",
    "<img src=\"West_front_face_ideal.png\" width=\"300\"/>\n",
    "\n",
    "In such case, the power delivered to the plasma/front-face is then:\n",
    "\n",
    "$$\n",
    "P_t \n",
    "= \\frac{1}{2} \\sum_{i=1}^4 \\Re[V_i I_i^* ] \n",
    "= \\frac{1}{2} \\sum_{i=1}^4 \\Re[Z_i] |I_i|^2\n",
    "= \\frac{1}{2} R_c \\sum_{i=1}^4 |I_i|^2\n",
    "$$\n",
    "Hence, we have defined the coupling resistance as:\n",
    "\n",
    "$$\n",
    "R_c = \\frac{\\sum_{i=1}^4 \\Re[Z_i] |I_i|^2}{\\sum_{i=1}^4 |I_i|^2}\n",
    "$$\n",
    "\n",
    "Inversely, the coupling resistance can be determine from:\n",
    "\n",
    "$$\n",
    "R_c = \\frac{2 P_t}{\\sum_{i=1}^4 |I_i|^2}\n",
    "$$\n",
    "\n",
    "In practice however, it is easier to measure RF voltages than currents. \n",
    "\n",
    "$$\n",
    "I = \\frac{V}{Z_s} = \\frac{V}{R_c + j X_s} \n",
    "\\rightarrow \n",
    "|I|^2 = \\frac{|V|^2}{|R_c + j X_s|}\n",
    "\\approx\n",
    "\\frac{|V|^2}{|X_s|^2}\n",
    "$$\n",
    "since in $|X_s|>>|R_c|$.\n",
    "\n",
    "The antenna model allows to calculate the coupling resistance from currents (`.Rc()` method) or from the voltage (`.Rc_WEST()` method).\n",
    "\n",
    "The strap reactance $X_s$ depends on the strap geometry and varies with the frequency. So, let's find how the strap reactance from the realistic CAD model. "
   ]
  },
  {
   "cell_type": "code",
   "execution_count": 1,
   "metadata": {},
   "outputs": [],
   "source": [
    "%matplotlib widget"
   ]
  },
  {
   "cell_type": "code",
   "execution_count": 2,
   "metadata": {},
   "outputs": [
    {
     "name": "stderr",
     "output_type": "stream",
     "text": [
      "C:\\Users\\JH218595\\Documents\\scikit-rf\\skrf\\plotting.py:1441: UserWarning: Style includes a parameter, 'interactive', that is not related to style.  Ignoring\n",
      "  mpl.style.use(os.path.join(pwd, style_file))\n"
     ]
    }
   ],
   "source": [
    "import matplotlib.pyplot as plt\n",
    "import numpy as np\n",
    "import skrf as rf\n",
    "from tqdm.notebook import tqdm\n",
    "\n",
    "# WEST ICRH Antenna package\n",
    "import sys; sys.path.append('..')\n",
    "from west_ic_antenna import WestIcrhAntenna\n",
    "\n",
    "# styling the figures\n",
    "rf.stylely()"
   ]
  },
  {
   "cell_type": "markdown",
   "metadata": {},
   "source": [
    "## Coupling to an ideal front-face\n",
    "Coupling to an ideal front face of coupling resistance $R_c$ is easy using the the `.load()` method of the `WestIcrhAntenna` class. This method takes into account the strap reactance frequency fit (derived in [Strap Reactance Frequency Fit](./strap_reactance.ipynb))   "
   ]
  },
  {
   "cell_type": "code",
   "execution_count": 3,
   "metadata": {},
   "outputs": [],
   "source": [
    "freq = rf.Frequency(30, 70, npoints=1001, unit='MHz')\n",
    "ant_ideal = WestIcrhAntenna(frequency=freq)\n",
    "ant_ideal.load(Rc=1) # 1 Ohm coupling resistance front-face"
   ]
  },
  {
   "cell_type": "code",
   "execution_count": 4,
   "metadata": {},
   "outputs": [
    {
     "name": "stdout",
     "output_type": "stream",
     "text": [
      "True solution #1: [53.56567365 45.98820709]\n",
      "True solution #1: [53.56564882 45.98822849]\n"
     ]
    }
   ],
   "source": [
    "# matching left and right sides : note that the solutions are (almost) the same\n",
    "f_match = 55.5e6\n",
    "C_left = ant_ideal.match_one_side(f_match=f_match, side='left')\n",
    "C_right = ant_ideal.match_one_side(f_match=f_match, side='right')"
   ]
  },
  {
   "cell_type": "markdown",
   "metadata": {},
   "source": [
    "At the difference of the \"real\" situation (see the [Matching](./matching.ipynb) or the [Coupling to a TOPICA plasma](./coupling_to_plasma_from_TOPICA.ipynb)), here is no poloidal neither toroidal coupling of the straps in this front-face model. This leads to:\n",
    "* Match soluitions are the same for both sides (within $10^{-3}$ pF). \n",
    "* Using the match solutions for each sides does not require to shift the operating frequency:"
   ]
  },
  {
   "cell_type": "code",
   "execution_count": 5,
   "metadata": {},
   "outputs": [
    {
     "data": {
      "application/vnd.jupyter.widget-view+json": {
       "model_id": "c2547cb0b938448dbc0aa8a124cec929",
       "version_major": 2,
       "version_minor": 0
      },
      "text/plain": [
       "Canvas(toolbar=Toolbar(toolitems=[('Home', 'Reset original view', 'home', 'home'), ('Back', 'Back to previous …"
      ]
     },
     "metadata": {},
     "output_type": "display_data"
    }
   ],
   "source": [
    "# dipole excitation\n",
    "power = [1, 1]\n",
    "phase = [0, rf.pi]\n",
    "\n",
    "# active S-parameter for the match point:\n",
    "C_match = [C_left[0], C_left[1], C_right[2], C_right[3]]\n",
    "s_act = ant_ideal.s_act(power, phase, Cs=C_match)\n",
    "\n",
    "fig, ax = plt.subplots()\n",
    "ax.plot(ant_ideal.f_scaled, 20*np.log10(np.abs(s_act)), lw=2)\n",
    "ax.legend(('$S_{act,1}$', '$S_{act,2}$'))\n",
    "ax.grid(True)"
   ]
  },
  {
   "cell_type": "markdown",
   "metadata": {},
   "source": [
    "## Match Points vs Coupling Resistance"
   ]
  },
  {
   "cell_type": "markdown",
   "metadata": {},
   "source": [
    "Let's determine the match points for a range of coupling resistance at a given frequency"
   ]
  },
  {
   "cell_type": "code",
   "execution_count": 6,
   "metadata": {},
   "outputs": [
    {
     "data": {
      "application/vnd.jupyter.widget-view+json": {
       "model_id": "0270875b558d43af8df5d4b899955baf",
       "version_major": 2,
       "version_minor": 0
      },
      "text/plain": [
       "HBox(children=(HTML(value=''), FloatProgress(value=0.0, max=14.0), HTML(value='')))"
      ]
     },
     "metadata": {},
     "output_type": "display_data"
    },
    {
     "name": "stdout",
     "output_type": "stream",
     "text": [
      "Wrong solution (out of range capacitor) ! Re-doing...\n",
      "False solution #1: [150. 150.]\n",
      "True solution #1: [52.02785554 50.46880396]\n",
      "True solution #1: [52.4097308  50.09882462]\n",
      "True solution #1: [52.7552753  49.76713493]\n",
      "Wrong solution (out of range capacitor) ! Re-doing...\n",
      "False solution #1: [150. 150.]\n",
      "True solution #1: [53.66611397 48.90006135]\n",
      "Wrong solution (out of range capacitor) ! Re-doing...\n",
      "False solution #1: [150. 150.]\n",
      "Wrong solution (out of range capacitor) ! Re-doing...\n",
      "False solution #1: [150. 150.]\n",
      "Wrong solution (out of range capacitor) ! Re-doing...\n",
      "False solution #1: [150. 150.]\n",
      "True solution #1: [54.2767751 48.3126251]\n",
      "True solution #1: [54.73987025 47.84863587]\n",
      "True solution #1: [55.102375   47.45603461]\n",
      "Wrong solution (out of range capacitor) ! Re-doing...\n",
      "False solution #1: [150. 150.]\n",
      "True solution #1: [55.38480972 47.10756983]\n",
      "Wrong solution (out of range capacitor) ! Re-doing...\n",
      "False solution #1: [150. 150.]\n",
      "Wrong solution (out of range capacitor) ! Re-doing...\n",
      "False solution #1: [150. 150.]\n",
      "True solution #1: [55.59611424 46.78433624]\n",
      "Wrong solution (out of range capacitor) ! Re-doing...\n",
      "False solution #1: [150. 150.]\n",
      "True solution #1: [55.73868969 46.46927577]\n",
      "True solution #1: [55.80947891 46.14276843]\n",
      "True solution #1: [55.79864076 45.7759411 ]\n",
      "True solution #1: [55.68811645 45.32042321]\n",
      "True solution #1: [55.44475928 44.67697131]\n",
      "\n"
     ]
    }
   ],
   "source": [
    "f_match = 55e6\n",
    "Rcs = np.r_[0.01, 0.05, np.arange(0.1, 2.5, 0.2)]\n",
    "\n",
    "C_matchs = []\n",
    "ant = WestIcrhAntenna()\n",
    "for Rc in tqdm(Rcs):\n",
    "    ant.load(Rc)\n",
    "    C_match = ant.match_one_side(f_match=f_match)\n",
    "    C_matchs.append(C_match)\n",
    "    "
   ]
  },
  {
   "cell_type": "markdown",
   "metadata": {},
   "source": [
    "As the coupling resistance increases, the distance between capacitances (Top vs Bottom) increases: "
   ]
  },
  {
   "cell_type": "code",
   "execution_count": 7,
   "metadata": {},
   "outputs": [
    {
     "data": {
      "application/vnd.jupyter.widget-view+json": {
       "model_id": "eaca400241794b48afe5fd2121afd873",
       "version_major": 2,
       "version_minor": 0
      },
      "text/plain": [
       "Canvas(toolbar=Toolbar(toolitems=[('Home', 'Reset original view', 'home', 'home'), ('Back', 'Back to previous …"
      ]
     },
     "metadata": {},
     "output_type": "display_data"
    },
    {
     "data": {
      "text/plain": [
       "<matplotlib.legend.Legend at 0x150918e11c8>"
      ]
     },
     "execution_count": 7,
     "metadata": {},
     "output_type": "execute_result"
    }
   ],
   "source": [
    "fig, ax = plt.subplots()\n",
    "ax.plot(Rcs, np.array(C_matchs)[:,0:2], lw=2, marker='o')\n",
    "ax.axhline(C_matchs[0][0], ls='--', color='C0')\n",
    "ax.axhline(C_matchs[0][1], ls='--', color='C1')\n",
    "ax.set_xlabel('Rc [Ohm]')\n",
    "ax.set_ylabel('C [pF]')\n",
    "ax.legend(('Top', 'Bot'))"
   ]
  },
  {
   "cell_type": "markdown",
   "metadata": {},
   "source": [
    "Displayed differently, the distance between capacitances (Top - Bottom) versus coupling resistance is:"
   ]
  },
  {
   "cell_type": "code",
   "execution_count": 10,
   "metadata": {},
   "outputs": [
    {
     "data": {
      "application/vnd.jupyter.widget-view+json": {
       "model_id": "3755698a7c9b44ba90a612452ef23201",
       "version_major": 2,
       "version_minor": 0
      },
      "text/plain": [
       "Canvas(toolbar=Toolbar(toolitems=[('Home', 'Reset original view', 'home', 'home'), ('Back', 'Back to previous …"
      ]
     },
     "metadata": {},
     "output_type": "display_data"
    },
    {
     "data": {
      "text/plain": [
       "<matplotlib.legend.Legend at 0x15092bc92c8>"
      ]
     },
     "execution_count": 10,
     "metadata": {},
     "output_type": "execute_result"
    }
   ],
   "source": [
    "delta_C_pos =  np.array(C_matchs)[:,0] - C_matchs[0][0]\n",
    "delta_C_neg =  C_matchs[0][1] - np.array(C_matchs)[:,1]\n",
    "\n",
    "fig, ax = plt.subplots()\n",
    "ax.plot(Rcs, delta_C_pos, label='Top: + $\\Delta C$', lw=2)\n",
    "ax.plot(Rcs, delta_C_neg, label='Bot: - $\\Delta C$', lw=2)\n",
    "ax.set_xlabel('Rc [Ohm]')\n",
    "ax.set_ylabel('$\\Delta C$ [pF]')\n",
    "ax.set_ylim(bottom=0)\n",
    "ax.set_xlim(left=0)\n",
    "ax.legend()"
   ]
  },
  {
   "cell_type": "markdown",
   "metadata": {},
   "source": [
    "## Load Resilience Curves\n",
    "Ideal loads is usefull to study the behaviour of the load tolerance property of the antenna and the capacitance match points. It is only necessary to work on half-antenna here, because there is no coupling between toroidal elements. "
   ]
  },
  {
   "cell_type": "markdown",
   "metadata": {},
   "source": [
    "Now that we have figured out the match points, let's vary the coupling resistances for a fixed match point and look to the return power (or VSWR): this will highlight the load resilience property of the antenna."
   ]
  },
  {
   "cell_type": "code",
   "execution_count": 13,
   "metadata": {},
   "outputs": [
    {
     "data": {
      "application/vnd.jupyter.widget-view+json": {
       "model_id": "047c16c85f7d41bc8ed2db4e7060c8bf",
       "version_major": 2,
       "version_minor": 0
      },
      "text/plain": [
       "Canvas(toolbar=Toolbar(toolitems=[('Home', 'Reset original view', 'home', 'home'), ('Back', 'Back to previous …"
      ]
     },
     "metadata": {},
     "output_type": "display_data"
    },
    {
     "data": {
      "application/vnd.jupyter.widget-view+json": {
       "model_id": "2d53d04b41b14f4aabe172fa24cca33c",
       "version_major": 2,
       "version_minor": 0
      },
      "text/plain": [
       "HBox(children=(HTML(value=''), FloatProgress(value=0.0, max=8.0), HTML(value='')))"
      ]
     },
     "metadata": {},
     "output_type": "display_data"
    },
    {
     "name": "stdout",
     "output_type": "stream",
     "text": [
      "\n"
     ]
    },
    {
     "data": {
      "text/plain": [
       "<matplotlib.legend.Legend at 0x15093f9e708>"
      ]
     },
     "execution_count": 13,
     "metadata": {},
     "output_type": "execute_result"
    }
   ],
   "source": [
    "# create a single frequency point antenna to speed-up calculations\n",
    "ant = WestIcrhAntenna(frequency=rf.Frequency.from_f(f_match, unit='Hz'))\n",
    "\n",
    "fig, ax = plt.subplots()\n",
    "power = [1, 1]\n",
    "phase = [0, np.pi]\n",
    "\n",
    "for C_match in tqdm(C_matchs[0:8]):\n",
    "    SWRs = []\n",
    "    ant.Cs = [C_match[0], C_match[1], 150, 150]\n",
    "    for Rc in Rcs:\n",
    "        ant.load(Rc)\n",
    "        SWR = ant.circuit().network.s_vswr.squeeze()[0,0]\n",
    "        SWRs.append(SWR)\n",
    "    ax.plot(Rcs, np.array(SWRs), lw=2)\n",
    "\n",
    "ax.set_xlabel('Rc [Ohm]')\n",
    "ax.set_ylabel('VSWR')\n",
    "ax.set_ylim(1, 8)\n",
    "ax.axhline(2, color='r')\n",
    "ax.legend(Rcs)"
   ]
  },
  {
   "cell_type": "code",
   "execution_count": 12,
   "metadata": {},
   "outputs": [
    {
     "data": {
      "text/html": [
       "<style><link href='http://fonts.googleapis.com/css?family=Fenix' rel='stylesheet' type='text/css'>\n",
       "<link href='http://fonts.googleapis.com/css?family=Alegreya+Sans:100,300,400,500,700,800,900,100italic,300italic,400italic,500italic,700italic,800italic,900italic' rel='stylesheet' type='text/css'>\n",
       "<link href='http://fonts.googleapis.com/css?family=Source+Code+Pro:300,400' rel='stylesheet' type='text/css'>\n",
       "<link href=\"https://fonts.googleapis.com/css?family=Fira+Mono\" rel=\"stylesheet\"> \n",
       "<style>\n",
       "    @font-face {\n",
       "        font-family: 'Fira Mono', monospace;\n",
       "        /*src: url('http://mirrors.ctan.org/fonts/cm-unicode/fonts/otf/cmunss.otf');*/\n",
       "    }\n",
       "    div.cell{\n",
       "        width:800px;\n",
       "        margin-left:16% !important;\n",
       "        margin-right:auto;\n",
       "    }\n",
       "    h1 {\n",
       "        font-family: 'Alegreya Sans', sans-serif;\n",
       "    }\n",
       "    h2 {\n",
       "        font-family: 'Fenix', serif;\n",
       "    }\n",
       "    h3{\n",
       "\t\tfont-family: 'Fenix', serif;\n",
       "        margin-top:12px;\n",
       "        margin-bottom: 3px;\n",
       "       }\n",
       "\th4{\n",
       "\t\tfont-family: 'Fenix', serif;\n",
       "       }\n",
       "    h5 {\n",
       "        font-family: 'Alegreya Sans', sans-serif;\n",
       "    }\t   \n",
       "    div.text_cell_render{\n",
       "        font-family: 'Fira Mono', 'Alegreya Sans',Computer Modern, \"Helvetica Neue\", Arial, Helvetica, Geneva, sans-serif;\n",
       "        line-height: 135%;\n",
       "        font-size: 120%;\n",
       "        width:700px;\n",
       "        margin-left:auto;\n",
       "        margin-right:auto;\n",
       "    }\n",
       "\n",
       "    .text_cell_render h1 {\n",
       "        font-weight: 200;\n",
       "        font-size: 30pt;\n",
       "\t\tline-height: 100%;\n",
       "        color:#CD2305;\n",
       "        margin-bottom: 0.5em;\n",
       "        margin-top: 0.5em;\n",
       "        display: block;\n",
       "    }\n",
       "\t\n",
       "    .text_cell_render h2 {\n",
       "        font-weight: 200;\n",
       "        font-size: 25pt;\n",
       "\t\tline-height: 100%;\n",
       "        color:#1a54b2;\n",
       "        margin-bottom: 0.5em;\n",
       "        margin-top: 0.5em;\n",
       "        display: block;\n",
       "    }\t\n",
       "\t\n",
       "    .text_cell_render h5 {\n",
       "        font-weight: 300;\n",
       "        font-size: 16pt;\n",
       "        color: #CD2305;\n",
       "        font-style: italic;\n",
       "        margin-bottom: .5em;\n",
       "        margin-top: 0.5em;\n",
       "        display: block;\n",
       "    }\n",
       "    \n",
       "    .warning{\n",
       "        color: rgb( 240, 20, 20 )\n",
       "        }  \n",
       "</style>\n",
       "<script>\n",
       "    MathJax.Hub.Config({\n",
       "                        TeX: {\n",
       "                           extensions: [\"AMSmath.js\"]\n",
       "                           },\n",
       "                tex2jax: {\n",
       "                    inlineMath: [ ['$','$'], [\"\\\\(\",\"\\\\)\"] ],\n",
       "                    displayMath: [ ['$$','$$'], [\"\\\\[\",\"\\\\]\"] ]\n",
       "                },\n",
       "                displayAlign: 'center', // Change this to 'center' to center equations.\n",
       "                \"HTML-CSS\": {\n",
       "                    styles: {'.MathJax_Display': {\"margin\": 4}}\n",
       "                }\n",
       "        });\n",
       "</script>\n",
       "</style>"
      ],
      "text/plain": [
       "<IPython.core.display.HTML object>"
      ]
     },
     "execution_count": 12,
     "metadata": {},
     "output_type": "execute_result"
    }
   ],
   "source": [
    "from IPython.core.display import HTML\n",
    "def _set_css_style(css_file_path):\n",
    "    \"\"\"\n",
    "    Read the custom CSS file and load it into Jupyter\n",
    "    Pass the file path to the CSS file\n",
    "    \"\"\"\n",
    "    styles = open(css_file_path, \"r\").read()\n",
    "    s = '<style>%s</style>' % styles\n",
    "    return HTML(s)\n",
    "\n",
    "_set_css_style('custom.css')"
   ]
  },
  {
   "cell_type": "code",
   "execution_count": null,
   "metadata": {},
   "outputs": [],
   "source": []
  }
 ],
 "metadata": {
  "kernelspec": {
   "display_name": "Python 3",
   "language": "python",
   "name": "python3"
  },
  "language_info": {
   "codemirror_mode": {
    "name": "ipython",
    "version": 3
   },
   "file_extension": ".py",
   "mimetype": "text/x-python",
   "name": "python",
   "nbconvert_exporter": "python",
   "pygments_lexer": "ipython3",
   "version": "3.7.8"
  }
 },
 "nbformat": 4,
 "nbformat_minor": 4
}
