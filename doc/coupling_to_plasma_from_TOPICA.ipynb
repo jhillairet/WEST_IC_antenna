{
 "cells": [
  {
   "cell_type": "code",
   "execution_count": null,
   "metadata": {},
   "outputs": [],
   "source": [
    "%load_ext autoreload\n",
    "%autoreload 2"
   ]
  },
  {
   "cell_type": "code",
   "execution_count": null,
   "metadata": {},
   "outputs": [],
   "source": [
    "import matplotlib.pyplot as plt\n",
    "import numpy as np\n",
    "import skrf as rf\n",
    "from tqdm.notebook import tqdm\n",
    "\n",
    "import sys; sys.path.append('..')\n",
    "from west_ic_antenna import WestIcrhAntenna\n",
    "from west_ic_antenna.topica import TopicaResult"
   ]
  },
  {
   "cell_type": "markdown",
   "metadata": {},
   "source": [
    "# Plasma Coupling Using TOPICA Results"
   ]
  },
  {
   "cell_type": "markdown",
   "metadata": {},
   "source": [
    "In this example, we use the the TOPICA front-face coupling calculations which have been used during the design of the WEST ICRH Antenna. TOPICA results are typically given as Z-matrix, which here have been converted into S-parameter files to be imported in the antenna RF model. \n",
    "\n",
    "TOPICA results are given for single frequency (55 MHz). If the antenna is defined for a frequency band, the S-parameters of the TOPICA front-face are then duplicated behind the hood for all the frequencies of the frequency band. \n",
    "\n",
    "The following function generates a scikit-rf Network object, interpolated from TOPICA results obtained during the design of the WEST ICRH Antenna. These Network that can be used later as the input front-face of the antenna.  "
   ]
  },
  {
   "cell_type": "code",
   "execution_count": null,
   "metadata": {},
   "outputs": [],
   "source": [
    "# generates a 2 Ohm coupling resistance front-face\n",
    "WestIcrhAntenna.interpolate_front_face(Rc=2, source='TOPICA-L-mode')"
   ]
  },
  {
   "cell_type": "markdown",
   "metadata": {},
   "source": [
    "In the example below, we build a WEST ICRH antenna model from a TOPICA-interpolated result and we match the antenna"
   ]
  },
  {
   "cell_type": "code",
   "execution_count": null,
   "metadata": {},
   "outputs": [],
   "source": [
    "# Antenna Frequency band defined as single point\n",
    "f0 = 55e6\n",
    "freq = rf.Frequency(f0, f0, npoints=1, unit='Hz')\n",
    "# generate antenna front face\n",
    "TOPICA_front_face = WestIcrhAntenna.interpolate_front_face(Rc=2, source='TOPICA-L-mode')\n",
    "# build the antenna model\n",
    "antenna = WestIcrhAntenna(frequency=freq, front_face=TOPICA_front_face)\n",
    "# match the antenna in dipole\n",
    "power = [1, 1]\n",
    "phase = [0, np.pi]\n",
    "\n",
    "C_match = antenna.match_both_sides(f_match=f0, power=power, phase=phase)"
   ]
  },
  {
   "cell_type": "code",
   "execution_count": null,
   "metadata": {},
   "outputs": [],
   "source": [
    "C_match"
   ]
  },
  {
   "cell_type": "code",
   "execution_count": null,
   "metadata": {},
   "outputs": [],
   "source": [
    "_Cs = C_match.copy()\n",
    "_Cs[0] += 2\n",
    "_Cs[1] -= 2\n",
    "_Cs[2] += 2\n",
    "_Cs[3] -= 2\n",
    "\n",
    "for idx in np.arange(30):\n",
    "    _Cs_left, _Cs_right, _ = antenna.capacitor_predictor(power, phase, Cs=list(_Cs), K=0.3 )\n",
    "    _Cs = np.array([_Cs_left, _Cs_right]).reshape(4)\n",
    "    print(_Cs, '->', antenna.vswr_act(power, phase, Cs=list(_Cs)))"
   ]
  },
  {
   "cell_type": "code",
   "execution_count": null,
   "metadata": {},
   "outputs": [],
   "source": [
    "C_match"
   ]
  },
  {
   "cell_type": "code",
   "execution_count": null,
   "metadata": {},
   "outputs": [],
   "source": [
    " antenna.capacitor_predictor(power, phase, Cs=list(_Cs) )"
   ]
  },
  {
   "cell_type": "markdown",
   "metadata": {},
   "source": [
    "In this example, the antenna is :\n",
    "\n",
    " 1. matched for the low coupling case, \n",
    "\n",
    " 2. then the antenna is be presented to higher coupling situation \n",
    "\n",
    "it aims to demonstrate the load tolerance properties of the antenna. This scenario is somewhat similar to the rise of an ELM in front of the antenna. "
   ]
  },
  {
   "cell_type": "code",
   "execution_count": null,
   "metadata": {},
   "outputs": [],
   "source": [
    "# dipole excitation\n",
    "power = [1, 1]\n",
    "phase = [0, np.pi] \n",
    "\n",
    "# create a reference case\n",
    "ff = WestIcrhAntenna.interpolate_front_face(Rc=2, source='TOPICA-L-mode')\n",
    "antenna = WestIcrhAntenna(frequency=freq, front_face=ff)\n",
    "\n",
    "# tune the antenna\n",
    "antenna.C_match =  antenna.match_both_sides()"
   ]
  },
  {
   "cell_type": "markdown",
   "metadata": {},
   "source": [
    "Now that the antenna is tuned let's vary the coupling case and check the resulting VSWR and coupling resistance Rc"
   ]
  },
  {
   "cell_type": "code",
   "execution_count": null,
   "metadata": {},
   "outputs": [],
   "source": [
    "freq = rf.Frequency(54, 56, npoints=1001, unit='MHz')\n",
    "\n",
    "Rcs_ideal, Rcs, VSWR = [], [], []\n",
    "\n",
    "Rcs_target = np.arange(start=1, stop=2.9, step=0.2)\n",
    "for Rc in tqdm(Rcs_target):\n",
    "    ff = WestIcrhAntenna.interpolate_front_face(Rc=Rc, source='TOPICA-L-mode')\n",
    "    antenna = WestIcrhAntenna(frequency=freq, front_face=ff)\n",
    "    antenna.Cs = C_match  # use match point calculated previously\n",
    "    \n",
    "    # plasma ideal coupling resistance\n",
    "    Rcs_ideal.append(antenna.front_face_Rc()[freq.center_idx,0])\n",
    "    # achieved antenna coupling resistance\n",
    "    Rcs.append(antenna.Rc_WEST(power, phase)[freq.center_idx,:])\n",
    "    # VSWR\n",
    "    VSWR.append(antenna.vswr_act(power, phase)[freq.center_idx])\n",
    "\n",
    "Rcs_ideal = np.array(Rcs_ideal)\n",
    "Rcs = np.array(Rcs)\n",
    "VSWR = np.array(VSWR)"
   ]
  },
  {
   "cell_type": "code",
   "execution_count": null,
   "metadata": {},
   "outputs": [],
   "source": [
    "fig, ax = plt.subplots()\n",
    "ax.plot(Rcs[:,0], VSWR[:,0], '.', label='left')\n",
    "ax.plot(Rcs[:,1], VSWR[:,1], 'x', label='right')\n",
    "ax.set_ylim(bottom=1)\n",
    "ax.legend()"
   ]
  },
  {
   "cell_type": "code",
   "execution_count": null,
   "metadata": {},
   "outputs": [],
   "source": [
    "from IPython.core.display import HTML\n",
    "def _set_css_style(css_file_path):\n",
    "    \"\"\"\n",
    "    Read the custom CSS file and load it into Jupyter\n",
    "    Pass the file path to the CSS file\n",
    "    \"\"\"\n",
    "    styles = open(css_file_path, \"r\").read()\n",
    "    s = '<style>%s</style>' % styles\n",
    "    return HTML(s)\n",
    "\n",
    "_set_css_style('custom.css')"
   ]
  },
  {
   "cell_type": "code",
   "execution_count": null,
   "metadata": {},
   "outputs": [],
   "source": []
  }
 ],
 "metadata": {
  "kernelspec": {
   "display_name": "Python 3 (ipykernel)",
   "language": "python",
   "name": "python3"
  },
  "language_info": {
   "codemirror_mode": {
    "name": "ipython",
    "version": 3
   },
   "file_extension": ".py",
   "mimetype": "text/x-python",
   "name": "python",
   "nbconvert_exporter": "python",
   "pygments_lexer": "ipython3",
   "version": "3.11.7"
  }
 },
 "nbformat": 4,
 "nbformat_minor": 4
}
