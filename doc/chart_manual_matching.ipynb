{
 "cells": [
  {
   "cell_type": "markdown",
   "id": "f2df5433-1df0-4ea1-b055-dffbc8993123",
   "metadata": {},
   "source": [
    "# Manual Matching of a WEST ICRH Antenna on Plasma"
   ]
  },
  {
   "cell_type": "markdown",
   "id": "808b14fd-dc7e-412c-abfa-b3ca0254598b",
   "metadata": {},
   "source": [
    "This notebook calculates the charts used in the internal documentation for the IC Operators for the manual matching on plasma. "
   ]
  },
  {
   "cell_type": "code",
   "execution_count": 15,
   "id": "14c9acaa-9f2e-4f89-bb51-6b9497c88ef6",
   "metadata": {},
   "outputs": [],
   "source": [
    "import matplotlib.pyplot as plt\n",
    "import numpy as np\n",
    "from tqdm.notebook import tqdm\n",
    "import skrf as rf\n",
    "\n",
    "# WEST ICRH Antenna package\n",
    "import sys; sys.path.append('..')\n",
    "from west_ic_antenna import WestIcrhAntenna\n",
    "#rf.stylely()"
   ]
  },
  {
   "cell_type": "markdown",
   "id": "6c69f03f-a506-4d68-bdd7-f9e5fe758d4d",
   "metadata": {},
   "source": [
    "# Capacitance Diff vs Coupling Resitance\n",
    "For a given RF frequency $f_0$ and phase setup, an antenna is generally first matched on vacuum conditions, leading to a couple of solution (C1, C2, C3, C4)."
   ]
  },
  {
   "cell_type": "markdown",
   "id": "297462ea-0a2f-4e07-bfc1-ed705f93be18",
   "metadata": {},
   "source": [
    "For the WEST preset frequencies, We create multiple plasma scenarios for low to high coupling cases and for each of them we determine the best matching point:"
   ]
  },
  {
   "cell_type": "code",
   "execution_count": 67,
   "id": "566888d7-4c62-47ae-a22d-20c98d06e509",
   "metadata": {},
   "outputs": [
    {
     "data": {
      "application/vnd.jupyter.widget-view+json": {
       "model_id": "ea25eba4774c4b79b90e2e4ffe4e5e85",
       "version_major": 2,
       "version_minor": 0
      },
      "text/plain": [
       "  0%|          | 0/1 [00:00<?, ?it/s]"
      ]
     },
     "metadata": {},
     "output_type": "display_data"
    },
    {
     "name": "stdout",
     "output_type": "stream",
     "text": [
      "Looking for individual solutions separately for 1st guess...\n",
      "True solution #1: [50.008626   48.05845312]\n",
      "Wrong solution (out of range capacitor) ! Re-doing...\n",
      "False solution #1: [150. 150.]\n",
      "True solution #1: [49.81199335 48.24698247]\n",
      "Searching for the active match point solution...\n",
      "Reducing search range to +/- 5pF around individual solutions\n",
      "True solution #1: [50.64529282 48.80114839 50.13209651 48.98123303]\n"
     ]
    },
    {
     "data": {
      "application/vnd.jupyter.widget-view+json": {
       "model_id": "4d80e1bc58ce4955b0f7bb00c252734a",
       "version_major": 2,
       "version_minor": 0
      },
      "text/plain": [
       "  0%|          | 0/10 [00:00<?, ?it/s]"
      ]
     },
     "metadata": {},
     "output_type": "display_data"
    },
    {
     "name": "stdout",
     "output_type": "stream",
     "text": [
      "Looking for individual solutions separately for 1st guess...\n",
      "True solution #1: [52.01022046 46.62836192]\n",
      "True solution #1: [51.65518792 46.79070957]\n",
      "Searching for the active match point solution...\n",
      "Reducing search range to +/- 5pF around individual solutions\n",
      "True solution #1: [52.52977    47.10572717 52.28786916 47.27745642]\n",
      "Looking for individual solutions separately for 1st guess...\n",
      "Wrong solution (out of range capacitor) ! Re-doing...\n",
      "False solution #1: [150. 150.]\n",
      "Wrong solution (out of range capacitor) ! Re-doing...\n",
      "False solution #1: [150. 150.]\n",
      "Wrong solution (out of range capacitor) ! Re-doing...\n",
      "False solution #1: [150. 150.]\n",
      "Wrong solution (out of range capacitor) ! Re-doing...\n",
      "False solution #1: [33.55344482 33.55344482]\n",
      "Wrong solution (out of range capacitor) ! Re-doing...\n",
      "False solution #1: [150. 150.]\n",
      "Wrong solution (out of range capacitor) ! Re-doing...\n",
      "False solution #1: [33.55354256 33.55354256]\n",
      "Wrong solution (out of range capacitor) ! Re-doing...\n",
      "False solution #1: [150. 150.]\n",
      "True solution #1: [52.61396776 46.50987233]\n",
      "Wrong solution (out of range capacitor) ! Re-doing...\n",
      "False solution #1: [150. 150.]\n",
      "True solution #1: [52.25236679 46.66964772]\n",
      "Searching for the active match point solution...\n",
      "Reducing search range to +/- 5pF around individual solutions\n",
      "True solution #1: [53.17508706 46.93123753 52.89677285 47.10395388]\n",
      "Looking for individual solutions separately for 1st guess...\n",
      "Wrong solution (out of range capacitor) ! Re-doing...\n",
      "False solution #1: [42.05683126 12.        ]\n",
      "Wrong solution (out of range capacitor) ! Re-doing...\n",
      "False solution #1: [150. 150.]\n",
      "Wrong solution (out of range capacitor) ! Re-doing...\n",
      "False solution #1: [150. 150.]\n",
      "True solution #1: [53.16147852 46.44003726]\n",
      "Wrong solution (out of range capacitor) ! Re-doing...\n",
      "False solution #1: [41.89661506 12.        ]\n",
      "Wrong solution (out of range capacitor) ! Re-doing...\n",
      "False solution #1: [150. 150.]\n",
      "True solution #1: [52.79318077 46.59751541]\n",
      "Searching for the active match point solution...\n",
      "Reducing search range to +/- 5pF around individual solutions\n",
      "True solution #1: [53.74725997 46.80111634 53.44873028 46.97528511]\n",
      "Looking for individual solutions separately for 1st guess...\n",
      "Wrong solution (out of range capacitor) ! Re-doing...\n",
      "False solution #1: [42.98966218 12.        ]\n",
      "True solution #1: [53.6659861  46.40419863]\n",
      "Wrong solution (out of range capacitor) ! Re-doing...\n",
      "False solution #1: [150. 150.]\n",
      "True solution #1: [53.29047658 46.55937248]\n",
      "Searching for the active match point solution...\n",
      "Reducing search range to +/- 5pF around individual solutions\n",
      "True solution #1: [54.26398804 46.69066822 53.95302177 46.89279309]\n",
      "Looking for individual solutions separately for 1st guess...\n",
      "Wrong solution (out of range capacitor) ! Re-doing...\n",
      "False solution #1: [150. 150.]\n",
      "Wrong solution (out of range capacitor) ! Re-doing...\n",
      "False solution #1: [150. 150.]\n",
      "True solution #1: [54.13497188 46.39320069]\n",
      "True solution #1: [53.75156247 46.54595875]\n",
      "Searching for the active match point solution...\n",
      "Reducing search range to +/- 5pF around individual solutions\n",
      "True solution #1: [54.7311892  46.64818523 54.44030492 46.81779177]\n",
      "Looking for individual solutions separately for 1st guess...\n",
      "Wrong solution (out of range capacitor) ! Re-doing...\n",
      "False solution #1: [150. 150.]\n",
      "True solution #1: [54.57296982 46.4006235 ]\n",
      "Wrong solution (out of range capacitor) ! Re-doing...\n",
      "False solution #1: [44.71828931 12.        ]\n",
      "Wrong solution (out of range capacitor) ! Re-doing...\n",
      "False solution #1: [150. 150.]\n",
      "True solution #1: [54.18078239 46.55055696]\n",
      "Searching for the active match point solution...\n",
      "Reducing search range to +/- 5pF around individual solutions\n",
      "True solution #1: [55.15909545 46.59420416 54.85613986 46.74900861]\n",
      "Looking for individual solutions separately for 1st guess...\n",
      "Wrong solution (out of range capacitor) ! Re-doing...\n",
      "False solution #1: [150. 150.]\n",
      "True solution #1: [54.98261443 46.42160321]\n",
      "Wrong solution (out of range capacitor) ! Re-doing...\n",
      "False solution #1: [45.64868727 12.        ]\n",
      "Wrong solution (out of range capacitor) ! Re-doing...\n",
      "False solution #1: [45.64885781 12.        ]\n",
      "Wrong solution (out of range capacitor) ! Re-doing...\n",
      "False solution #1: [150. 150.]\n",
      "Wrong solution (out of range capacitor) ! Re-doing...\n",
      "False solution #1: [150. 150.]\n",
      "Wrong solution (out of range capacitor) ! Re-doing...\n",
      "False solution #1: [150. 150.]\n",
      "True solution #1: [54.58061608 46.56821348]\n",
      "Searching for the active match point solution...\n",
      "Reducing search range to +/- 5pF around individual solutions\n",
      "True solution #1: [55.57880361 46.55591163 55.26903986 46.71177853]\n",
      "Looking for individual solutions separately for 1st guess...\n",
      "Wrong solution (out of range capacitor) ! Re-doing...\n",
      "False solution #1: [150. 150.]\n",
      "Wrong solution (out of range capacitor) ! Re-doing...\n",
      "False solution #1: [150. 150.]\n",
      "Wrong solution (out of range capacitor) ! Re-doing...\n",
      "False solution #1: [46.6879238 12.       ]\n",
      "Wrong solution (out of range capacitor) ! Re-doing...\n",
      "False solution #1: [150. 150.]\n",
      "Wrong solution (out of range capacitor) ! Re-doing...\n",
      "False solution #1: [150. 150.]\n",
      "True solution #1: [55.3654641  46.45212596]\n",
      "Wrong solution (out of range capacitor) ! Re-doing...\n",
      "False solution #1: [150. 150.]\n",
      "Wrong solution (out of range capacitor) ! Re-doing...\n",
      "False solution #1: [150. 150.]\n",
      "Wrong solution (out of range capacitor) ! Re-doing...\n",
      "False solution #1: [150. 150.]\n",
      "Wrong solution (out of range capacitor) ! Re-doing...\n",
      "False solution #1: [150. 150.]\n",
      "True solution #1: [54.95238748 46.59460902]\n",
      "Searching for the active match point solution...\n",
      "Reducing search range to +/- 5pF around individual solutions\n",
      "True solution #1: [55.94671773 46.52031722 55.63279691 46.67430035]\n",
      "Looking for individual solutions separately for 1st guess...\n",
      "True solution #1: [55.72217136 46.48870837]\n",
      "True solution #1: [55.29690053 46.62623306]\n",
      "Searching for the active match point solution...\n",
      "Reducing search range to +/- 5pF around individual solutions\n",
      "True solution #1: [56.27052702 46.48322557 55.95028198 46.62810805]\n",
      "Looking for individual solutions separately for 1st guess...\n",
      "Wrong solution (out of range capacitor) ! Re-doing...\n",
      "False solution #1: [150. 150.]\n",
      "Wrong solution (out of range capacitor) ! Re-doing...\n",
      "False solution #1: [150. 150.]\n",
      "Wrong solution (out of range capacitor) ! Re-doing...\n",
      "False solution #1: [150. 150.]\n",
      "Wrong solution (out of range capacitor) ! Re-doing...\n",
      "False solution #1: [150. 150.]\n",
      "Wrong solution (out of range capacitor) ! Re-doing...\n",
      "False solution #1: [48.38433509 12.        ]\n",
      "True solution #1: [56.05294535 46.52814288]\n",
      "True solution #1: [55.61391709 46.659491  ]\n",
      "Searching for the active match point solution...\n",
      "Reducing search range to +/- 5pF around individual solutions\n",
      "True solution #1: [56.55606112 46.44143436 56.23135676 46.57761768]\n"
     ]
    }
   ],
   "source": [
    "# WEST Antenna matched on vacuum condition in dipole (default) for a given frequency\n",
    "f0_MHzs = [55.5] # [48, 53, 55.5, 57, 63]\n",
    "delta_Cs = {}\n",
    "\n",
    "for f0_MHz in tqdm(f0_MHzs):\n",
    "    freq = rf.Frequency(f0_MHz, f0_MHz, npoints=1, unit='MHz')\n",
    "    ant_vacuum = WestIcrhAntenna(frequency=freq)  # default is vacuum coupling\n",
    "    Cs_vac = ant_vacuum.match_both_sides()\n",
    "    \n",
    "    Rcs = np.linspace(0.4, 1.7, num=10)\n",
    "    Cs_plasmas = []\n",
    "    \n",
    "    for Rc in tqdm(Rcs):\n",
    "        plasma = WestIcrhAntenna.interpolate_front_face(Rc, source='TOPICA-H-mode')\n",
    "        ant_plasma = WestIcrhAntenna(frequency=freq, front_face=plasma)\n",
    "        Cs_plasma = ant_plasma.match_both_sides()\n",
    "        Cs_plasmas.append(Cs_plasma)\n",
    "        \n",
    "    delta_Cs[f0_MHz] = np.array(Cs_plasmas) - np.array(Cs_vac)"
   ]
  },
  {
   "cell_type": "code",
   "execution_count": 68,
   "id": "adeffd01-319d-4240-afdd-0ffdad081ef2",
   "metadata": {},
   "outputs": [
    {
     "data": {
      "application/vnd.jupyter.widget-view+json": {
       "model_id": "95ab392d5be243c69f6b4330c367a4b1",
       "version_major": 2,
       "version_minor": 0
      },
      "text/plain": [
       "  0%|          | 0/1 [00:00<?, ?it/s]"
      ]
     },
     "metadata": {},
     "output_type": "display_data"
    },
    {
     "data": {
      "image/png": "[encoded data removed]",
      "text/plain": [
       "<Figure size 640x480 with 1 Axes>"
      ]
     },
     "metadata": {},
     "output_type": "display_data"
    }
   ],
   "source": [
    "fig, ax = plt.subplots()\n",
    "for f0_MHz in tqdm(f0_MHzs):\n",
    "    ax.plot(Rcs, abs(delta_Cs[f0_MHz][:,0] + delta_Cs[f0_MHz][:,2])/2, marker='^', label=f'{f0_MHz} MHz - Top')\n",
    "    ax.plot(Rcs, abs(delta_Cs[f0_MHz][:,1] + delta_Cs[f0_MHz][:,3])/2, marker='v', label=f'{f0_MHz} MHz - Bot')\n",
    "ax.set_xlabel('Coupling Resistance $R_c$ [Ohm]')\n",
    "ax.set_ylabel('Capacitance Shift $\\Delta C$ [pF]')\n",
    "ax.set_title('Capacitance Shift to add from Vacuum Match Points (55 MHz)')\n",
    "ax.legend()\n",
    "ax.grid(True)"
   ]
  }
 ],
 "metadata": {
  "kernelspec": {
   "display_name": "Python 3 (ipykernel)",
   "language": "python",
   "name": "python3"
  },
  "language_info": {
   "codemirror_mode": {
    "name": "ipython",
    "version": 3
   },
   "file_extension": ".py",
   "mimetype": "text/x-python",
   "name": "python",
   "nbconvert_exporter": "python",
   "pygments_lexer": "ipython3",
   "version": "3.10.6"
  }
 },
 "nbformat": 4,
 "nbformat_minor": 5
}
